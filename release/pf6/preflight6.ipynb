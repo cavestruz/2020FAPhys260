{
 "cells": [
  {
   "cell_type": "markdown",
   "metadata": {},
   "source": [
    "# Phys 260: Python assignment header\n",
    "\n",
    "### (1) Fill out the cell below.  \n",
    "The cell below is a **code cell**.  Fill out your University of Michigan uniqname, then your name, and collaborators in the cell below **inside the quotes**.  \n",
    "\n",
    "**Do not delete the quotes.**  We will use this information to organize your assignments.  To edit and execute cells, double click inside the cell, type, and press \\<shift\\>+\\<enter\\> to execute."
   ]
  },
  {
   "cell_type": "code",
   "execution_count": null,
   "metadata": {},
   "outputs": [],
   "source": [
    "UNIQNAME = \"\"\n",
    "NAME = \"\"\n",
    "COLLABORATORS = \"\""
   ]
  },
  {
   "cell_type": "markdown",
   "metadata": {},
   "source": [
    "### (2) Check your python version.  \n",
    "**Execute the cell below** (double click in the cell and press \\<shift\\>+\\<enter\\>, or click in the cell and press the Run button) to check that you are using a version of python that is compatible with the tool we are using to grade your assignments.  If your ```IPython``` version is too old, we will *not* be able to grade your assignments."
   ]
  },
  {
   "cell_type": "code",
   "execution_count": null,
   "metadata": {},
   "outputs": [],
   "source": [
    "import IPython\n",
    "assert IPython.version_info[0] >= 3, \"Your version of IPython is too old, please update it.\""
   ]
  },
  {
   "cell_type": "markdown",
   "metadata": {},
   "source": [
    "### (3) Do your best to answer all questions in the assignment.  \n",
    "To answer questions, **replace** anything that says either\n",
    "- \"YOUR ANSWER HERE\" \n",
    "- \n",
    "```\n",
    "YOUR CODE HERE\n",
    "raise NotImplementedError\n",
    "``` \n",
    "\n",
    "with your answer/code.  Cells with either of the two bullet points above are cells of the notebook that will be graded.\n",
    "\n",
    "**To edit markdown** cells (e.g. this one),  *double click in the cell to type*.  Press \\<shift\\>+\\<enter\\> to execute the cell.  Try editing the text below to replace the with your information (e.g. Camille Avestruz, cavestru):  \n",
    "\n",
    "[first name] [last name], uniqname\n"
   ]
  },
  {
   "cell_type": "markdown",
   "metadata": {},
   "source": [
    "### (4) Make sure your notebook runs sequentially.\n",
    "After you complete this assignment, make sure everything runs as expected. First, **restart the kernel** (in the menubar, select Kernel$\\rightarrow$Restart) and then **run all cells** (in the menubar, select Cell$\\rightarrow$Run All)."
   ]
  },
  {
   "cell_type": "code",
   "execution_count": null,
   "metadata": {},
   "outputs": [],
   "source": []
  },
  {
   "cell_type": "markdown",
   "metadata": {},
   "source": [
    "# Introduction -- Reminder\n",
    "\n",
    "Each Python lab will start with a pre-flight exercise that walks through building some of the set up and tools ($\\sim$ 30 min), followed by an in-class tutorial with time for Q+A (50 min) so you can walk through steps that will be necessary for the homework assignment you will submit ($\\sim$ 3 hrs).  Each lab will contain starter code, similar to what you see below.  Please fill in the code to complete the pre-flight assignment in preparation for the in-class tutorial.  \n",
    "\n",
    "Preflight ($\\sim$30-60 min, 10 points) **Typically due: Wednesdays 3pm EST**\n",
    "\n",
    "*Preflight typically graded by Wednesday 5p EST*\n",
    "\n",
    "In-class tutorial and Q+A ($\\sim$ 50 min, 10 points) **Typically occurs: Thursdays 9am EST**\n",
    "\n",
    "Homework assignment ($\\sim$ 3-5 hrs, 30 points) **Typically due: Mondays 9am EST** \n",
    "\n",
    "*Homework typically graded by Thursday 5p*\n",
    "\n",
    "When we grade your homework, we will not run your code. Once submitted, your notebook should have the outputs for all of your results.  Please do not include long outputs from debugging, beyond a few print statements and the requested visualizations (i.e. plots).\n",
    "\n",
    "**Grading:** When we grade your notebook, we will convert the .ipynb file to an HTML file.  We will be using [nbgrader](https://nbgrader.readthedocs.io/en/stable/) to grade your notebooks.  **Note:** If your ```IPython``` version is too old, we will *not* be able to grade your assignments.\n"
   ]
  },
  {
   "cell_type": "markdown",
   "metadata": {},
   "source": [
    "# Phys 260 Python Preflight 6: Simulating the mechanical analog -- a spring (10 points total)\n",
    "\n",
    "## Tutorial/HW summary\n",
    "- Review of python classes with the mechanics analog: the spring"
   ]
  },
  {
   "cell_type": "markdown",
   "metadata": {},
   "source": [
    "## Equations of Motion:  Numerically solving differential equations\n",
    "\n",
    "The main topic this week has been an introduction to circuit components: resistors, capacitors, and current.  This coming week will go over how different combinations of circuit components impact the time dependence of the system.  Most simple circuits can be solved using a variety of techniques.  More complex circuits, or more complex input signal, do not have easy paths to an exact solution.\n",
    "\n",
    "From lecture, we know that the current is defined as the charge flow per unit time, a differential equation:\n",
    "\\begin{equation}\n",
    "I = \\frac {dQ} {dt}\n",
    "\\end{equation}\n",
    "\n",
    "We can solve differential equations numerically. \n",
    "\n",
    "Consider a first-order equations of the form:\n",
    "\\begin{equation}\n",
    "\\frac {dx} {dt} = f(x,t).\n",
    "\\end{equation}\n",
    "\n",
    "The solution to this equation is a function $x(t)$ whose first derivative is $f$.\n",
    "To find the solution to such an equation, we also need boundary conditions, or starting points.  Suppose that we have a first-order differential equation and know the value of $x$ for some specific time $t$, that is we know $x(t)$.  The we can write the value of x some short time later as\n",
    "\\begin{equation}\n",
    "x(t+h) = x(t) + h \\frac {dx} {dt} + \\frac 1 2 h^2 \\frac {d^2x} {dt^2} + ...\n",
    "\\end{equation}\n",
    "\n",
    "\\begin{equation}\n",
    "x(t+h) = x(t) + h f(x,t) + h^2 \\frac {df(x,t)} {dt} + ...\n",
    "\\end{equation}\n",
    "\n",
    "If $h$ is small then $h^2$ is really small, and we can ignore it, and all higher terms of $h^n$.  This technique is called Euler's method.\n",
    "\n",
    "Using this, if we know the value of $x$ at some time $t$ we can find the value at some short time later.  We can then repeat this process and understand how $x$ changes over time. The set of $x$ values at a discrete set of $t$ values is the numerical solution to our differential equation.\n",
    "\n",
    "We are going to use this method to find the current, voltages and charges in simple circuits.  We will start with circuits which are easy to solve analytically so we can verify the numerical solution. Later we'll consider circuits that are a little more difficult.\n"
   ]
  },
  {
   "cell_type": "code",
   "execution_count": null,
   "metadata": {},
   "outputs": [],
   "source": [
    "import numpy as np\n",
    "from matplotlib import pyplot as plt"
   ]
  },
  {
   "cell_type": "markdown",
   "metadata": {},
   "source": [
    "## Example from Mechanics: the Simple Harmonic Oscillator\n",
    "\n",
    "To illustrate these ideas, let's work out the solution to a situation with which you are already familiar: the simple harmonic oscillator, e.g. a mass on a spring:\n",
    "<img src=\"http://www-personal.umich.edu/~gerdes/img/SHO.png\" height=\"300\" align=\"center\">\n",
    "This system is described by Newton's second law:\n",
    "$$\n",
    "    F = ma = m\\frac{d^2x}{dt^2}= -kx.\n",
    "$$\n",
    "\n",
    "This is a second-order differential equation (it relates the function $x(t)$ to its second derivative), so we need to specify two boundary conditions. In mechanics, boundary conditions are often the initial position and velocity. \n",
    "\n",
    "Let's suppose that the mass starts from rest at $x_0=x(t=0)=1$. We know that the solution to Newton's second law is\n",
    "\\begin{eqnarray}\n",
    "        x(t)& = & A\\cos\\omega t \\\\\n",
    "        v(t) & = &-A\\omega\\sin\\omega t \\\\\n",
    "        a(t)& = &-A\\omega^2\\cos\\omega t,\n",
    "\\end{eqnarray}\n",
    "where $\\omega = \\sqrt{k/m}$, and in this case $A=1$.\n",
    "\n",
    "In discrete form, our equations look like:\n",
    "$$\n",
    "    \\Delta v = a\\Delta t,\n",
    "$$\n",
    "$$\n",
    "    \\Delta x = v\\Delta t.\n",
    "$$\n",
    "\n",
    "Let us also assume that there is some viscous damping or friction that the mass experiences leading to a damping term, $cv$, that manifests in Newton's 2nd law as,\n",
    "\\begin{eqnarray}\n",
    "    m\\frac{d^2x}{dt^2}+c\\frac{dx}{dt}+kx = 0\\\\\n",
    "    ma + cv + kx = 0\n",
    "\\end{eqnarray}\n",
    "\n",
    "Note, the acceleration depends on both the position and velocity as,\n",
    "\\begin{eqnarray}\n",
    "    a = -cv/m - \\omega x\n",
    "\\end{eqnarray}\n",
    "\n",
    "Since it is a damping term, let us consider a damping coefficient of $c/m=0.1$.  To later test our code for a frictionless surface, we can set $c/m = 0$.\n",
    "\n",
    "Then we can proceed as follows:\n",
    "- Define constants that initialize the spring system (i.e. initialize the state of the spring)\n",
    "- Define the equations of motion\n",
    "- Time evolve the system\n",
    "\n",
    "We will do this with a `Spring` class."
   ]
  },
  {
   "cell_type": "markdown",
   "metadata": {},
   "source": [
    "### Complete methods of a class (4 points)\n",
    "\n",
    "In the cell below, \n",
    "- Complete the `def __init__` by defining attributes `self.omega` and `self.period`.  \n",
    "- Complete the `def evolve_spring`, which is missing the updated attributes `self.v_now` and `self.x_now`.  These depend on `self.dt`, which gets defined in the method `self._set_numtimesteps`.  The preceding underscore is a convention to indicate that this method is for internal class use (i.e. you're not meant to use it outside of the class definition).  See a write up on the [meaning of underscores in python here](https://dbader.org/blog/meaning-of-underscores-in-python)."
   ]
  },
  {
   "cell_type": "code",
   "execution_count": null,
   "metadata": {
    "deletable": false,
    "nbgrader": {
     "cell_type": "code",
     "checksum": "805f32c2a4fd8fec6ae8f3392904ab18",
     "grade": false,
     "grade_id": "cell-e8f629d51af73118",
     "locked": false,
     "schema_version": 3,
     "solution": true,
     "task": false
    }
   },
   "outputs": [],
   "source": [
    "class Spring : \n",
    "    \"\"\"Creates an instance of a spring model, which can be time evolved\"\"\"\n",
    "    def __init__(self, mass, spring_k, x0=1, v0=0, damping_c=0.1) :\n",
    "        \"\"\"A model of a spring\n",
    "        Parameters\n",
    "        ----------\n",
    "        mass : float\n",
    "            mass at end of spring\n",
    "        spring_k : float \n",
    "            spring constant\n",
    "        x0 : float\n",
    "            initial position of mass. default 1\n",
    "        v0 : float\n",
    "            initial velocity of mass. default 0\n",
    "        damping_c : float\n",
    "            damping coefficient. default .1\n",
    "     \n",
    "        \"\"\"\n",
    "        self.x_now = x0\n",
    "        self.v_now = v0\n",
    "        self.a_now = -damping_c*v0 - spring_k * x0\n",
    "        self.damping_c = damping_c\n",
    "        self.spring_k = spring_k\n",
    "\n",
    "        # Define the attributes omega (cycles per time) and the period (units of time) below\n",
    "        # YOUR CODE HERE\n",
    "        raise NotImplementedError()\n",
    "        \n",
    "        self.x_vals = []\n",
    "        self.v_vals = []\n",
    "        self.a_vals = []\n",
    "        \n",
    "        \n",
    "    def _set_num_timesteps(self, num_periods, num_timesteps_per_period) :        \n",
    "        \"\"\"Internal method. Sets the attributes num_timesteps and dt.\n",
    "        Parameters\n",
    "        ----------\n",
    "        num_periods : float\n",
    "            number of periods to evolve over\n",
    "        num_timesteps_per_period : int\n",
    "            number of timesteps per period, defines the time resolution \n",
    "        \"\"\"\n",
    "        \n",
    "        dt = self.period / num_timesteps_per_period\n",
    "\n",
    "        try :\n",
    "            if self.dt != dt :\n",
    "                # self.dt already exists, using evolve_spring with a different one\n",
    "                print(\"Warning: you are continuing with a different timestep\")\n",
    "                print(\"previous dt=%.4f\"%self.dt)\n",
    "                print(\"new dt=%.4f\"%dt)\n",
    "                self.dt = dt\n",
    "        except AttributeError :\n",
    "            # Define the attribute dt for the first time\n",
    "            self.dt = dt    \n",
    "        \n",
    "        self.num_timesteps = num_periods * num_timesteps_per_period\n",
    "        \n",
    "    def evolve_spring(self, num_periods, num_timesteps_per_period) :\n",
    "        \"\"\"Evolve the spring, populate the acceleration, velocity and position (a_vals, v_vals, x_vals)\n",
    "        Parameters\n",
    "        ----------\n",
    "        num_periods : float\n",
    "            number of periods to evolve over\n",
    "        num_timesteps_per_period : int\n",
    "            number of timesteps per period, defines the time resolution         \n",
    "        \"\"\"\n",
    "        \n",
    "        self._set_num_timesteps(num_periods, num_timesteps_per_period)\n",
    "        \n",
    "        for timestep in np.arange(self.num_timesteps) :\n",
    "            # Populate\n",
    "            self.a_vals.append(self.a_now)\n",
    "            self.v_vals.append(self.v_now)\n",
    "            self.x_vals.append(self.x_now)\n",
    "\n",
    "            # Update \"now\" values\n",
    "            self.a_now = -self.damping_c*self.v_now - self.spring_k * self.x_now\n",
    "            \n",
    "            # Define attributes v_now based on a_now and dt, then x_now based on v_now and dt\n",
    "            # YOUR CODE HERE\n",
    "            raise NotImplementedError()"
   ]
  },
  {
   "cell_type": "code",
   "execution_count": null,
   "metadata": {
    "deletable": false,
    "editable": false,
    "nbgrader": {
     "cell_type": "code",
     "checksum": "20951f8bc50078e1a09bb99c96d3a4de",
     "grade": true,
     "grade_id": "cell-3f3aff6bc878dc2e",
     "locked": true,
     "points": 4,
     "schema_version": 3,
     "solution": false,
     "task": false
    }
   },
   "outputs": [],
   "source": [
    "\"\"\"Execute to check you're on the right track\"\"\"\n",
    "test_spring = Spring(1, 1)\n",
    "assert(test_spring.omega == 1)\n",
    "assert(test_spring.period == 2*np.pi)\n",
    "\n",
    "test_spring.evolve_spring(1, 100000)\n",
    "\n",
    "assert(abs(test_spring.v_now - .0057) < 0.001)\n",
    "assert(abs(test_spring.x_now - .73) < 0.01)"
   ]
  },
  {
   "cell_type": "markdown",
   "metadata": {},
   "source": [
    "### Instantiating and using a class (2 points)\n",
    "Now, we create an instance of the `Spring` class to plot the behavior of a damped harmonic oscillator.  In the cell below, \n",
    "- Create an instance with name `spring`, `mass=1`, and `spring_k=1`. \n",
    "- Evolve the spring (using the appropriate method) for 5 periods, with 1000 timesteps per period."
   ]
  },
  {
   "cell_type": "code",
   "execution_count": null,
   "metadata": {
    "deletable": false,
    "nbgrader": {
     "cell_type": "code",
     "checksum": "d38068890492887d5605e611ac1d21c5",
     "grade": false,
     "grade_id": "cell-941178a83c882a19",
     "locked": false,
     "schema_version": 3,
     "solution": true,
     "task": false
    }
   },
   "outputs": [],
   "source": [
    "#  Create an instance of the spring and chage its state with time evolution\n",
    "# YOUR CODE HERE\n",
    "raise NotImplementedError()"
   ]
  },
  {
   "cell_type": "code",
   "execution_count": null,
   "metadata": {
    "deletable": false,
    "editable": false,
    "nbgrader": {
     "cell_type": "code",
     "checksum": "232be015240a9b6a5fc77acf1444f8e6",
     "grade": true,
     "grade_id": "cell-c01cc5973522abce",
     "locked": true,
     "points": 2,
     "schema_version": 3,
     "solution": false,
     "task": false
    }
   },
   "outputs": [],
   "source": [
    "\"\"\"Execute to check you're on the right track\"\"\"\n",
    "assert('dt' in dir(spring))\n",
    "assert(abs(spring.dt - .006) <0.001 )"
   ]
  },
  {
   "cell_type": "markdown",
   "metadata": {},
   "source": [
    "Now, we plot with respect to time in units of period."
   ]
  },
  {
   "cell_type": "code",
   "execution_count": null,
   "metadata": {},
   "outputs": [],
   "source": [
    "time_period_units = np.arange(spring.num_timesteps) * spring.dt / spring.period\n",
    "\n",
    "fig, (ax1, ax2, ax3) = plt.subplots(3,1, figsize=(8,9))\n",
    "fig.suptitle('Simple Harmonic Oscillator', fontsize=18)\n",
    "\n",
    "ax1.plot(time_period_units, spring.x_vals, color='b')\n",
    "ax1.grid()\n",
    "ax1.set_ylabel('position [m]', fontsize=14)\n",
    "\n",
    "ax2.plot(time_period_units, spring.v_vals, color='r')\n",
    "ax2.grid()\n",
    "ax2.set_ylabel('velocity [m/s]', fontsize=14)\n",
    "\n",
    "ax3.plot(time_period_units, spring.a_vals, color='g')\n",
    "ax3.grid()\n",
    "ax3.set_ylabel('acceleration [m/s$^2$]', fontsize=14)\n",
    "ax3.set_xlabel('Time in units of period', fontsize=16)"
   ]
  },
  {
   "cell_type": "markdown",
   "metadata": {},
   "source": [
    "### Continue spring motion from where we left off\n",
    "Because our spring instance keeps all of the last timestep's conditions (e.g. in `spring.a_now`, etc.), we can continue to evolve over additional periods.  Note, however, we have to use the same number of timesteps per period for consistency."
   ]
  },
  {
   "cell_type": "code",
   "execution_count": null,
   "metadata": {},
   "outputs": [],
   "source": [
    "#  Continue evolving for three more periods\n",
    "num_periods = 3\n",
    "num_timesteps_per_period = 1000\n",
    "spring.evolve_spring(num_periods, num_timesteps_per_period)"
   ]
  },
  {
   "cell_type": "markdown",
   "metadata": {},
   "source": [
    "### Short hand for plotting (2 points)\n",
    "Make the same three-axis plot using the built-in `zip` class to decrease the amount of code you use.  Below is a simple example of how `zip` works, but I recommend uncommenting the last line to also take a look at the documentation for `zip` with `help`. "
   ]
  },
  {
   "cell_type": "code",
   "execution_count": null,
   "metadata": {},
   "outputs": [],
   "source": [
    "# Example use of zip\n",
    "mynums = np.array([1,2,3,5])\n",
    "mywords = np.array(['one','two','three','five'])\n",
    "myromannums = np.array(['I','II','III','V'])\n",
    "\n",
    "for mynum, myword, myromannum in zip(mynums,mywords, myromannums) :\n",
    "    print(mynum)\n",
    "    print(myword)\n",
    "    print(myromannum)\n",
    "\n",
    "#help(zip)"
   ]
  },
  {
   "cell_type": "code",
   "execution_count": null,
   "metadata": {
    "deletable": false,
    "nbgrader": {
     "cell_type": "code",
     "checksum": "96597af98a6f235e55ca0bb3d905ce80",
     "grade": true,
     "grade_id": "cell-7fb7a995d5896feb",
     "locked": false,
     "points": 2,
     "schema_version": 3,
     "solution": true,
     "task": false
    }
   },
   "outputs": [],
   "source": [
    "#  Your code using zip to make same plot as above here:\n",
    "num_total_timesteps = len(spring.x_vals) # Note, spring.timesteps is the number of timesteps we recently took\n",
    "time_period_units = np.arange(num_total_timesteps) * spring.dt / spring.period\n",
    "\n",
    "fig, (ax1, ax2, ax3) = plt.subplots(3,1, figsize=(8,9))  \n",
    "axes = [ax1, ax2, ax3]\n",
    "\n",
    "fig.suptitle('Simple Harmonic Oscillator', fontsize=18)\n",
    "yarrays = [spring.x_vals, spring.v_vals, spring.a_vals]\n",
    "ylabels = ['position [m]', 'velocity [m/s]', 'acceleration [m/s$^2$]']\n",
    "colors = ['b', 'r', 'g']\n",
    "\n",
    "# Use zip in a for floop containing no more than 3 lines in the body of the for loop\n",
    "# YOUR CODE HERE\n",
    "raise NotImplementedError()\n",
    "    \n",
    "ax3.set_xlabel('Time in units of period', fontsize=16)"
   ]
  },
  {
   "cell_type": "markdown",
   "metadata": {},
   "source": [
    "### Illustrate effects of naively switching timesteps and correct the issue (2 points)\n",
    "Below, we illustrate what choosing the different timesteps per period looks like.  Increasing the number of timesteps (i.e. refining the time resolution) is in fact something that might be desireable for a given problem.  First, plot the spring behavior with the naive assumption that you can continue as before.  You will notice that the plot shows a change in period for the time correpsonding to the third call of the `evolve_spring` method.  Note - you'll need to add the same code below using zip as you did before. "
   ]
  },
  {
   "cell_type": "code",
   "execution_count": null,
   "metadata": {},
   "outputs": [],
   "source": [
    "#  Evolve for one period with a different timestep\n",
    "num_periods = 3\n",
    "num_timesteps_per_period = 2000\n",
    "spring.evolve_spring(num_periods, num_timesteps_per_period)"
   ]
  },
  {
   "cell_type": "code",
   "execution_count": null,
   "metadata": {
    "deletable": false,
    "nbgrader": {
     "cell_type": "code",
     "checksum": "345ed12ec93e70298693aa96fb4fa988",
     "grade": true,
     "grade_id": "cell-bfe8b16655c6e6b5",
     "locked": false,
     "points": 0,
     "schema_version": 3,
     "solution": true,
     "task": false
    }
   },
   "outputs": [],
   "source": [
    "#  Use the same code with zip to see the effects of changing num_timesteps_per_period\n",
    "num_total_timesteps = len(spring.x_vals)\n",
    "time_period_units = np.arange(num_total_timesteps) * spring.dt / spring.period\n",
    "\n",
    "fig, (ax1, ax2, ax3) = plt.subplots(3,1, figsize=(8,9))  \n",
    "axes = [ax1, ax2, ax3]\n",
    "\n",
    "fig.suptitle('Simple Harmonic Oscillator', fontsize=18)\n",
    "yarrays = [spring.x_vals, spring.v_vals, spring.a_vals]\n",
    "ylabels = ['position [m]', 'velocity [m/s]', 'acceleration [m/s$^2$]']\n",
    "colors = ['b', 'r', 'g']\n",
    "\n",
    "# Use zip in a for floop containing no more than 3 lines in the body of the for loop\n",
    "# YOUR CODE HERE\n",
    "raise NotImplementedError()\n",
    "    \n",
    "ax3.set_xlabel('Time in units of period', fontsize=16)"
   ]
  },
  {
   "cell_type": "markdown",
   "metadata": {},
   "source": [
    "Now, take the code from the cell above, and modify it in the cell below to account for the higher time resolution to get an appropriate plot.  The crux of this is to redifine `time_period_units` so the values for time (x-axis-values) are no longer evenly spaced.   \n",
    "\n",
    "**Hint**: You'll want to double the timesteps corresponding to points calculated from the first two calls of the method `evolve_spring`, perhaps naming this `time_period_units_before`.  Then, you'll want to keep the timesteps for the last (third) call of the method `evolve_spring`, perhaps naming this `time_period_units_before`, and this should start right after the last value of `time_period_units_before`. You can then use `np.concatenate` to create one entire `time_period_units` for plotting from this.  \n",
    "\n",
    "**Alternative approach**: Note, there are better ways to do this, such as defining an attribute of the `Spring` that keeps track of the number of timesteps for each time `evolve_spring` has been called, paired with the corresponding `dt`.  You are welcome to try adding such an attribute to the definition of `Spring`, or you can make the correction only for the figure as described in the hint above.  If you try adding such an attribute, this could look like a list, `self.spring_evolution_config`, where each list item is a tuple (`num_timesteps`, `dt`) that gets appended every time `evolve_spring` gets called (and `_set_num_timesteps` gets called). "
   ]
  },
  {
   "cell_type": "code",
   "execution_count": null,
   "metadata": {
    "deletable": false,
    "nbgrader": {
     "cell_type": "code",
     "checksum": "a6d29adab2501d068a19bf8c26c393f1",
     "grade": true,
     "grade_id": "cell-3fb70339bd9774c4",
     "locked": false,
     "points": 2,
     "schema_version": 3,
     "solution": true,
     "task": false
    }
   },
   "outputs": [],
   "source": [
    "#  Make modifications to the previous cell of code to make an appropriate plot\n",
    "# YOUR CODE HERE\n",
    "raise NotImplementedError()"
   ]
  }
 ],
 "metadata": {
  "kernelspec": {
   "display_name": "Python 3",
   "language": "python",
   "name": "python3"
  },
  "language_info": {
   "codemirror_mode": {
    "name": "ipython",
    "version": 3
   },
   "file_extension": ".py",
   "mimetype": "text/x-python",
   "name": "python",
   "nbconvert_exporter": "python",
   "pygments_lexer": "ipython3",
   "version": "3.8.5"
  }
 },
 "nbformat": 4,
 "nbformat_minor": 2
}
