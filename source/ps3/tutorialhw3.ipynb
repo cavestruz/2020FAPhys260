{
 "cells": [
  {
   "cell_type": "markdown",
   "metadata": {},
   "source": [
    "# Introduction -- Reminder\n",
    "\n",
    "Each Python lab will start with a pre-flight exercise that walks through building some of the set up and tools ($\\sim$ 30 min), followed by an in-class tutorial with time for Q+A (50 min) so you can walk through steps that will be necessary for the homework assignment you will submit ($\\sim$ 3 hrs).  Each lab will contain starter code, similar to what you see below.  Please fill in the code to complete the pre-flight assignment in preparation for the in-class tutorial.  \n",
    "\n",
    "Preflight ($\\sim$30-60 min, 10 points) **Typically due: Wednesdays 3pm EST**\n",
    "\n",
    "*Preflight typically graded by Wednesday 5p EST*\n",
    "\n",
    "In-class tutorial and Q+A ($\\sim$ 50 min, 10 points) **Typically occurs: Thursdays 9am EST**\n",
    "\n",
    "Homework assignment ($\\sim$ 3-5 hrs, 30 points) **Typically due: Mondays 9am EST** \n",
    "\n",
    "*Homework typically graded by Thursday 5p*\n",
    "\n",
    "When we grade your homework, we will not run your code. Once submitted, your notebook should have the outputs for all of your results.  Please do not include long outputs from debugging, beyond a few print statements and the requested visualizations (i.e. plots).\n",
    "\n",
    "**Grading:** When we grade your notebook, we will convert the .ipynb file to an HTML file.  We will be using [nbgrader](https://nbgrader.readthedocs.io/en/stable/) to grade your notebooks.  **Note:** If your ```IPython``` version is too old, we will *not* be able to grade your assignments.\n"
   ]
  },
  {
   "cell_type": "markdown",
   "metadata": {},
   "source": [
    "# Phys 260 Python Lab 3: Boundary conditions (20 points total)\n",
    "\n",
    "## Tutorial summary\n",
    "- Method of relaxation for setting the potential with boundary conditions\n",
    "- Plotting a scalar field (e.g. the potential V)"
   ]
  },
  {
   "cell_type": "code",
   "execution_count": 1,
   "metadata": {},
   "outputs": [],
   "source": [
    "import numpy as np\n",
    "from matplotlib import pyplot as plt"
   ]
  },
  {
   "cell_type": "markdown",
   "metadata": {},
   "source": [
    "## Brief review\n",
    "- Taking derivatives on a grid\n",
    "- Extension to 2d"
   ]
  },
  {
   "cell_type": "markdown",
   "metadata": {},
   "source": [
    "## Background of application (quick review of the vector calculus between $\\vec{E}$ and V)\n",
    "\n",
    "In class you saw, \n",
    "\\begin{equation}\n",
    "\\vec E = - \\vec \\nabla V, ~~~~~~~~ ~~~~~~~~ ~~~~~~~~ ~~~~~~~~ \\mbox{  (1) }\n",
    "\\end{equation}\n",
    "where $\\vec \\nabla = \\left(\\frac{\\partial}{\\partial x},\\frac{\\partial}{\\partial y},\\frac{\\partial}{\\partial z}\\right)$ in cartesian coordinates,\n",
    " and \n",
    " \\begin{equation}\n",
    "\\vec E = \\int \\frac {\\rho d\\tau} {4 \\pi \\epsilon_0}\\frac {\\hat r} {r^2}.~~~~~~~~ ~~~~~~~~ ~~~~~~~~ \\mbox{  (2) }\n",
    "\\end{equation}\n",
    "Here $d\\tau$ is the differential volume element (e.g. $d\\tau=dxdydz$) to avoid confusion with $V$ which is the potential.\n",
    "\n",
    "Equation (2) is an integral equation.  The inverse of integration is taking a derivative.  Taking the divergence of both sides of Equation (2), we arrive at the differential form of Gauss' law:\n",
    "\n",
    "\\begin{equation}\n",
    "\\vec \\nabla \\cdot \\vec E = \\frac \\rho {\\epsilon_0}. ~~~~~~~~ ~~~~~~~~ ~~~~~~~~ \\mbox{  (3) }\n",
    "\\end{equation}\n",
    "\n",
    "If we now substitute Equation (1) into this equation we get: \n",
    "\\begin{equation}\n",
    "\\nabla^2 V= \\frac {- \\rho} {\\epsilon_0}.~~~~~~~~ ~~~~~~~~ ~~~~~~~~ \\mbox{  (4) }\n",
    "\\end{equation}\n",
    "\n",
    "It might help to write out how this works out in Cartesian coordinates in case the nabla-notation is new to you:\n",
    "\n",
    "\\begin{equation}\n",
    "\\vec{\\nabla}_{\\mathrm{cart}}=\\left[\\frac{\\delta}{\\delta x},\\frac{\\delta}{\\delta y}, \\frac{\\delta}{\\delta z}\\right]\n",
    "=\\left[\\delta_x,\\delta_y,\\delta_z\\right] = \\delta_x\\hat{i} + \\delta_y\\hat{j} + \\delta_z\\hat{k}\n",
    "\\end{equation}\n",
    "\n",
    "Expressing the electric field in terms of the potential, we have,\n",
    "\\begin{equation}\n",
    "\\vec{E} = -\\vec{\\nabla}_{\\mathrm{cart}}V=-\\left[\\frac{\\delta V}{\\delta x},\\frac{\\delta V}{\\delta y}, \\frac{\\delta V}{\\delta z}\\right]\n",
    "=-\\left[\\delta_xV,\\delta_yV,\\delta_zV\\right] = -\\delta_xV\\hat{i} - \\delta_yV\\hat{j} - \\delta_zV\\hat{k} = E_x\\hat{i}+E_y\\hat{j}+E_z\\hat{k}\n",
    "\\end{equation}\n",
    "\n",
    "And, explicitly writing out equation (3):\n",
    "\\begin{equation}\n",
    "\\vec \\nabla \\cdot \\vec E = \\delta_xE_x+\\delta_yE_y+\\delta_zE_z = \\frac \\rho {\\epsilon_0}. \n",
    "\\end{equation}\n",
    "\n",
    "And, explicitly writing out equation (4) in cartesian coordinates:\n",
    "\\begin{equation}\n",
    "\\left(\\vec \\nabla \\cdot (-\\vec{\\nabla}V\\right) = \\left[\\delta_x,\\delta_y,\\delta_z\\right] \\cdot \\left[-\\delta_xV,-\\delta_yV,-\\delta_zV\\right] = -\\left(\\delta_x^2V + \\delta_y^2V + \\delta_z^2V\\right) = -\\nabla^2 V,\n",
    "\\end{equation}\n",
    "so, \n",
    "\\begin{equation}\n",
    "\\nabla^2V = -\\frac{\\rho}{\\epsilon_0}\n",
    "\\end{equation}\n",
    "where, $\\nabla^2 = \\frac{\\partial^2}{\\partial x^2} + \\frac{\\partial^2}{\\partial y^2} + \\frac{\\partial^2}{\\partial z^2}$.\n",
    "\n",
    "This simplifies when we restrict ourselves to the case where we are considering the potential in regions where there are absolutely no charges (e.g., $\\rho = 0$).  Then we have:\n",
    "\\begin{equation}\n",
    "\\nabla^2 V= 0.  ~~~~~~~~ ~~~~~~~~ ~~~~~~~~ \\mbox{  (5) }\n",
    "\\end{equation}\n",
    "Equation 5 is just saying that the second derivative of the potential $V$ is zero in regions where there are no charges.  If this were one dimensional then this would mean that the potential can have slopes and nothing more complicated that that.    \n",
    "\n",
    "A TLDR: The ingredients for Equation 5:\n",
    "- Coulomb's law, Equation (2) and (3) with the integral and differential forms\n",
    "- The definition of the potential, Equation (1) \n",
    "- The choice that we will only consider regions that are charge free.  \n",
    "\n",
    "Assuming our problem satisfies condition (c) then Equation 5 completely specifies the electric field and is equivalent to solving Coulomb's law.  Of course you need Equation (1) to recover the field.   You might think that (c) is a big restriction, but it isn't.  You just carefully cut out the regions that have charges, figure out the potential on the boundary of the regions you had to remove and then plug ahead with (5).   \n",
    "\n",
    "\n",
    "The generalization of this statement to 2 and 3 dimensions will lend itself to a very easy numerical method for solving for the potential.  We'll come back to this in the next section."
   ]
  },
  {
   "cell_type": "code",
   "execution_count": 47,
   "metadata": {},
   "outputs": [],
   "source": [
    "# Set up a 2-d grid with np.meshgrid: a 4x8 rectangle, with 80 points per value\n",
    "x_position, y_position = np.meshgrid(np.linspace(-4,4,80), np.linspace(-2,2,40), indexing='ij')\n",
    "potential = np.zeros(x_position.shape)"
   ]
  },
  {
   "cell_type": "markdown",
   "metadata": {},
   "source": [
    "Below, we plot the position points that we are sampling, where the the points sampled were generated from `np.meshgrid`. "
   ]
  },
  {
   "cell_type": "code",
   "execution_count": 63,
   "metadata": {},
   "outputs": [
    {
     "name": "stdout",
     "output_type": "stream",
     "text": [
      "x varies across bottom edge and has shape:  (80,)\n",
      "x varies across top edge and has shape:  (80,)\n",
      "y varies across left edge and has shape:  (40,)\n",
      "y varies across right edge and has  shape:  (40,)\n"
     ]
    },
    {
     "data": {
      "text/plain": [
       "Text(0,0.5,'y [m]')"
      ]
     },
     "execution_count": 63,
     "metadata": {},
     "output_type": "execute_result"
    },
    {
     "data": {
      "image/png": "[encoded data removed]",
      "text/plain": [
       "<Figure size 432x288 with 1 Axes>"
      ]
     },
     "metadata": {},
     "output_type": "display_data"
    }
   ],
   "source": [
    "print('x varies across bottom edge and has shape: ', potential[:,0].shape)\n",
    "print('x varies across top edge and has shape: ', potential[:,-1].shape)\n",
    "print('y varies across left edge and has shape: ', potential[0,:].shape)\n",
    "print('y varies across right edge and has  shape: ', potential[-1,:].shape)\n",
    "\n",
    "# Visualization of points sampled\n",
    "plt.scatter(x_position, y_position, s=0.2, alpha=0.5)\n",
    "plt.xlim(-5,5)\n",
    "\n",
    "# Horizontal lines\n",
    "plt.axhline(-2, xmin=-5,xmax=5, c='r', ls=':')\n",
    "plt.axhline(2, xmin=-5,xmax=5, c='r', ls=':')\n",
    "\n",
    "# Vertical lines\n",
    "plt.axvline(-4, ymin=-5,ymax=5)\n",
    "plt.axvline(4, ymin=-5,ymax=5)\n",
    "\n",
    "# Label what we will want to happen\n",
    "plt.annotate('V = 100V', (0, 2.1))\n",
    "plt.annotate('V = -100V', (0, -2.4))\n",
    "\n",
    "plt.annotate('V=0V', (-4.4,-2.3), rotation=90)\n",
    "plt.annotate('V=0V', (4.,-2.3), rotation=-90)\n",
    "\n",
    "plt.ylim(-5,5)\n",
    "plt.gca().set_aspect('equal')\n",
    "plt.xlabel('x [m]', fontsize='xx-large')\n",
    "plt.ylabel('y [m]', fontsize='xx-large')"
   ]
  },
  {
   "cell_type": "markdown",
   "metadata": {},
   "source": [
    "**Group exercise** (5 min): Recall, you can set values in an array.  Let us create an array of zeros, `example_edge_conditioned_array` using `np.zeros`, with shape (10,1).  Let us set the first and last elements of `example_edge_conditioned_array` equal to 1. "
   ]
  },
  {
   "cell_type": "code",
   "execution_count": 30,
   "metadata": {},
   "outputs": [
    {
     "name": "stdout",
     "output_type": "stream",
     "text": [
      "[[1.]\n",
      " [0.]\n",
      " [0.]\n",
      " [0.]\n",
      " [0.]\n",
      " [0.]\n",
      " [0.]\n",
      " [0.]\n",
      " [0.]\n",
      " [1.]]\n"
     ]
    }
   ],
   "source": [
    "# Define example_edge_array here\n",
    "### BEGIN SOLUTION\n",
    "example_edge_conditioned_array = np.zeros((10,1))\n",
    "example_edge_conditioned_array[0] = 1\n",
    "example_edge_conditioned_array[-1] = 1\n",
    "### END SOLUTION"
   ]
  },
  {
   "cell_type": "code",
   "execution_count": 29,
   "metadata": {},
   "outputs": [],
   "source": [
    "\"\"\"Execute to check you're on the right track\"\"\"\n",
    "assert(example_edge_conditioned_array.shape == (10,1))\n",
    "### BEGIN HIDDEN TESTS\n",
    "test_conditioned_array = np.zeros((10,1))\n",
    "test_conditioned_array[0] = 1\n",
    "test_conditioned_array[-1] = 1\n",
    "assert((example_edge_conditioned_array == test_conditioned_array).all())\n",
    "### END HIDDEN TESTS"
   ]
  },
  {
   "cell_type": "markdown",
   "metadata": {},
   "source": [
    "Analogous to what we did for a 1-d array, `example_edge_conditioned_array`, let us do the same thing for a 2-d array, `potential`.  We wish to set boundary conditions such that:\n",
    "```\n",
    "x_edges = 0\n",
    "y_edge_top = 100\n",
    "y_edge_bottom\n",
    "```"
   ]
  },
  {
   "cell_type": "code",
   "execution_count": null,
   "metadata": {},
   "outputs": [],
   "source": [
    "# Impose boundary conditions\n"
   ]
  },
  {
   "cell_type": "markdown",
   "metadata": {},
   "source": [
    "# Phys 260 Python Lab 3: Effects of Discretization and the Efield from the potential (10 points total)\n",
    "\n",
    "\n",
    "Your homework assignment begins here.  Note, the homework below relies on code built during the tutorial (above)\n",
    "\n",
    "\n",
    "## Homework summary \n",
    "- Plotting the electric field with the method of relaxation\n",
    "- Practice writing functions and slicing arrays with \"Effects of discretization:  Example with Gauss' Law\""
   ]
  },
  {
   "cell_type": "markdown",
   "metadata": {},
   "source": [
    "## Effects of discretization: Example with Gauss' Law"
   ]
  },
  {
   "cell_type": "markdown",
   "metadata": {},
   "source": [
    "## Gauss' law due to a spherical insulator\n",
    "\n",
    "Gauss' law states that a closed surface has a total flux equal to the charge enclosed.  We will write a function, `calc_efield_sphere_gauss` that calculates the electric field due to an insulating sphere that we discussed in the tutorial portion, e.g. the And compare with the numerical calculation from discretized charge in the tutorial."
   ]
  },
  {
   "cell_type": "code",
   "execution_count": 5,
   "metadata": {},
   "outputs": [],
   "source": [
    "# Let's first define our field points, points_in_meshgrid"
   ]
  },
  {
   "cell_type": "code",
   "execution_count": 6,
   "metadata": {},
   "outputs": [],
   "source": [
    "# Let's define our charge points"
   ]
  },
  {
   "cell_type": "code",
   "execution_count": 7,
   "metadata": {},
   "outputs": [],
   "source": [
    "# Let's define our functions that calculate the efield due to an array of charges"
   ]
  },
  {
   "cell_type": "markdown",
   "metadata": {},
   "source": []
  },
  {
   "cell_type": "code",
   "execution_count": 2,
   "metadata": {},
   "outputs": [],
   "source": [
    "def calc_efield_sphere_gauss(points_in_meshgrid, sphere_radius=1, Q=1) :\n",
    "    '''\n",
    "    \n",
    "    '''\n",
    "    \n",
    "### BEGIN SOLUTION\n",
    "    pass\n",
    "### END SOLUTION"
   ]
  },
  {
   "cell_type": "markdown",
   "metadata": {},
   "source": [
    "## Compare the Gauss' law (exact) calculation to the discretized version (2 points)\n",
    "\n",
    "Take the function, `calc_efield_sphere_gauss`, and calculate the electric field for `points_in_meshgrid`, `efield_sphere_gauss`.    "
   ]
  },
  {
   "cell_type": "code",
   "execution_count": 3,
   "metadata": {},
   "outputs": [
    {
     "ename": "NameError",
     "evalue": "name 'points_in_meshgrid' is not defined",
     "output_type": "error",
     "traceback": [
      "\u001b[0;31m---------------------------------------------------------------------------\u001b[0m",
      "\u001b[0;31mNameError\u001b[0m                                 Traceback (most recent call last)",
      "\u001b[0;32m<ipython-input-3-ab861d128d7e>\u001b[0m in \u001b[0;36m<module>\u001b[0;34m()\u001b[0m\n\u001b[1;32m      1\u001b[0m \u001b[0;31m#  Calculate efield_sphere_gauss here\u001b[0m\u001b[0;34m\u001b[0m\u001b[0;34m\u001b[0m\u001b[0m\n\u001b[1;32m      2\u001b[0m \u001b[0;31m### BEGIN SOLUTION\u001b[0m\u001b[0;34m\u001b[0m\u001b[0;34m\u001b[0m\u001b[0m\n\u001b[0;32m----> 3\u001b[0;31m \u001b[0mefield_sphere_gauss\u001b[0m \u001b[0;34m=\u001b[0m \u001b[0mcalc_efield_sphere_gauss\u001b[0m\u001b[0;34m(\u001b[0m\u001b[0mpoints_in_meshgrid\u001b[0m\u001b[0;34m)\u001b[0m\u001b[0;34m\u001b[0m\u001b[0m\n\u001b[0m\u001b[1;32m      4\u001b[0m \u001b[0;31m### END SOLUTION\u001b[0m\u001b[0;34m\u001b[0m\u001b[0;34m\u001b[0m\u001b[0m\n",
      "\u001b[0;31mNameError\u001b[0m: name 'points_in_meshgrid' is not defined"
     ]
    }
   ],
   "source": [
    "#  Calculate efield_sphere_gauss here\n",
    "### BEGIN SOLUTION\n",
    "efield_sphere_gauss = calc_efield_sphere_gauss(points_in_meshgrid)\n",
    "### END SOLUTION"
   ]
  },
  {
   "cell_type": "code",
   "execution_count": 4,
   "metadata": {},
   "outputs": [
    {
     "data": {
      "text/plain": [
       "'Execute to check that you are properly calculating efield_sphere_gauss'"
      ]
     },
     "execution_count": 4,
     "metadata": {},
     "output_type": "execute_result"
    }
   ],
   "source": [
    "\"\"\"Execute to check that you are properly calculating efield_sphere_gauss\"\"\"\n",
    "#assert()\n",
    "### BEGIN HIDDEN TESTS\n",
    "\n",
    "### END HIDDEN TESTS"
   ]
  },
  {
   "cell_type": "markdown",
   "metadata": {},
   "source": [
    "Now, let's plot the ratio between the two as measured along the x-axis ($y, z=0$).  First, identify the part of the arrays corresponding to the x-axis points."
   ]
  },
  {
   "cell_type": "code",
   "execution_count": 1,
   "metadata": {},
   "outputs": [
    {
     "ename": "NameError",
     "evalue": "name 'np' is not defined",
     "output_type": "error",
     "traceback": [
      "\u001b[0;31m---------------------------------------------------------------------------\u001b[0m",
      "\u001b[0;31mNameError\u001b[0m                                 Traceback (most recent call last)",
      "\u001b[0;32m<ipython-input-1-c0c8ab363412>\u001b[0m in \u001b[0;36m<module>\u001b[0;34m()\u001b[0m\n\u001b[0;32m----> 1\u001b[0;31m \u001b[0mnp\u001b[0m\u001b[0;34m.\u001b[0m\u001b[0mroll\u001b[0m\u001b[0;34m(\u001b[0m\u001b[0mnp\u001b[0m\u001b[0;34m.\u001b[0m\u001b[0marange\u001b[0m\u001b[0;34m(\u001b[0m\u001b[0;36m10\u001b[0m\u001b[0;34m)\u001b[0m\u001b[0;34m,\u001b[0m\u001b[0;36m1\u001b[0m\u001b[0;34m)\u001b[0m\u001b[0;34m\u001b[0m\u001b[0m\n\u001b[0m",
      "\u001b[0;31mNameError\u001b[0m: name 'np' is not defined"
     ]
    }
   ],
   "source": []
  },
  {
   "cell_type": "code",
   "execution_count": null,
   "metadata": {},
   "outputs": [],
   "source": []
  }
 ],
 "metadata": {
  "kernelspec": {
   "display_name": "Python 3",
   "language": "python",
   "name": "python3"
  },
  "language_info": {
   "codemirror_mode": {
    "name": "ipython",
    "version": 3
   },
   "file_extension": ".py",
   "mimetype": "text/x-python",
   "name": "python",
   "nbconvert_exporter": "python",
   "pygments_lexer": "ipython3",
   "version": "3.6.5"
  }
 },
 "nbformat": 4,
 "nbformat_minor": 2
}
