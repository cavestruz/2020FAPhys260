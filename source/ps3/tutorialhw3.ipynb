{
 "cells": [
  {
   "cell_type": "markdown",
   "metadata": {},
   "source": [
    "# Introduction -- Reminder\n",
    "\n",
    "Each Python lab will start with a pre-flight exercise that walks through building some of the set up and tools ($\\sim$ 30 min), followed by an in-class tutorial with time for Q+A (50 min) so you can walk through steps that will be necessary for the homework assignment you will submit ($\\sim$ 3 hrs).  Each lab will contain starter code, similar to what you see below.  Please fill in the code to complete the pre-flight assignment in preparation for the in-class tutorial.  \n",
    "\n",
    "Preflight ($\\sim$30-60 min, 10 points) **Typically due: Wednesdays 3pm EST**\n",
    "\n",
    "*Preflight typically graded by Wednesday 5p EST*\n",
    "\n",
    "In-class tutorial and Q+A ($\\sim$ 50 min, 10 points) **Typically occurs: Thursdays 9am EST**\n",
    "\n",
    "Homework assignment ($\\sim$ 3-5 hrs, 30 points) **Typically due: Mondays 9am EST** \n",
    "\n",
    "*Homework typically graded by Thursday 5p*\n",
    "\n",
    "When we grade your homework, we will not run your code. Once submitted, your notebook should have the outputs for all of your results.  Please do not include long outputs from debugging, beyond a few print statements and the requested visualizations (i.e. plots).\n",
    "\n",
    "**Grading:** When we grade your notebook, we will convert the .ipynb file to an HTML file.  We will be using [nbgrader](https://nbgrader.readthedocs.io/en/stable/) to grade your notebooks.  **Note:** If your ```IPython``` version is too old, we will *not* be able to grade your assignments.\n"
   ]
  },
  {
   "cell_type": "markdown",
   "metadata": {},
   "source": [
    "# Phys 260 Python Lab 3: Boundary conditions (20 points total)\n",
    "\n",
    "## Tutorial summary\n",
    "- Method of relaxation for setting the potential with boundary conditions\n",
    "- Plotting a scalar field (e.g. the potential V)"
   ]
  },
  {
   "cell_type": "code",
   "execution_count": 100,
   "metadata": {},
   "outputs": [],
   "source": [
    "import numpy as np\n",
    "from matplotlib import pyplot as plt"
   ]
  },
  {
   "cell_type": "markdown",
   "metadata": {},
   "source": [
    "## Brief review\n",
    "- Taking derivatives on a grid\n",
    "- Extension to 2d"
   ]
  },
  {
   "cell_type": "markdown",
   "metadata": {},
   "source": [
    "## Background of application (quick review of the vector calculus between $\\vec{E}$ and V)\n",
    "\n",
    "In lectures you saw, \n",
    "\\begin{equation}\n",
    "\\vec E = - \\vec \\nabla V, ~~~~~~~~ ~~~~~~~~ ~~~~~~~~ ~~~~~~~~ \\mbox{  (1) }\n",
    "\\end{equation}\n",
    "where $\\vec \\nabla = \\left(\\frac{\\partial}{\\partial x},\\frac{\\partial}{\\partial y},\\frac{\\partial}{\\partial z}\\right)$ in cartesian coordinates,\n",
    " and \n",
    " \\begin{equation}\n",
    "\\vec E = \\int \\frac {\\rho d\\tau} {4 \\pi \\epsilon_0}\\frac {\\hat r} {r^2}.~~~~~~~~ ~~~~~~~~ ~~~~~~~~ \\mbox{  (2) }\n",
    "\\end{equation}\n",
    "Here $d\\tau$ is the differential volume element (e.g. $d\\tau=dxdydz$) to avoid confusion with $V$ which is the potential.\n",
    "\n",
    "Equation (2) is an integral equation.  The inverse of integration is taking a derivative.  Taking the divergence of both sides of Equation (2), we arrive at the differential form of Gauss' law:\n",
    "\n",
    "\\begin{equation}\n",
    "\\vec \\nabla \\cdot \\vec E = \\frac \\rho {\\epsilon_0}. ~~~~~~~~ ~~~~~~~~ ~~~~~~~~ \\mbox{  (3) }\n",
    "\\end{equation}\n",
    "\n",
    "If we now substitute Equation (1) into this equation we get: \n",
    "\\begin{equation}\n",
    "\\nabla^2 V= \\frac {- \\rho} {\\epsilon_0}.~~~~~~~~ ~~~~~~~~ ~~~~~~~~ \\mbox{  (4) }\n",
    "\\end{equation}\n",
    "\n",
    "It might help to write out how this works out in Cartesian coordinates in case the nabla-notation is new to you:\n",
    "\n",
    "\\begin{equation}\n",
    "\\vec{\\nabla}_{\\mathrm{cart}}=\\left[\\frac{\\delta}{\\delta x},\\frac{\\delta}{\\delta y}, \\frac{\\delta}{\\delta z}\\right]\n",
    "=\\left[\\delta_x,\\delta_y,\\delta_z\\right] = \\delta_x\\hat{i} + \\delta_y\\hat{j} + \\delta_z\\hat{k}\n",
    "\\end{equation}\n",
    "\n",
    "Expressing the electric field in terms of the potential, we have,\n",
    "\\begin{equation}\n",
    "\\vec{E} = -\\vec{\\nabla}_{\\mathrm{cart}}V=-\\left[\\frac{\\delta V}{\\delta x},\\frac{\\delta V}{\\delta y}, \\frac{\\delta V}{\\delta z}\\right]\n",
    "=-\\left[\\delta_xV,\\delta_yV,\\delta_zV\\right] = -\\delta_xV\\hat{i} - \\delta_yV\\hat{j} - \\delta_zV\\hat{k} = E_x\\hat{i}+E_y\\hat{j}+E_z\\hat{k}\n",
    "\\end{equation}\n",
    "\n",
    "And, explicitly writing out equation (3):\n",
    "\\begin{equation}\n",
    "\\vec \\nabla \\cdot \\vec E = \\delta_xE_x+\\delta_yE_y+\\delta_zE_z = \\frac \\rho {\\epsilon_0}. \n",
    "\\end{equation}\n",
    "\n",
    "And, explicitly writing out equation (4) in cartesian coordinates:\n",
    "\\begin{equation}\n",
    "\\left(\\vec \\nabla \\cdot (-\\vec{\\nabla}V\\right) = \\left[\\delta_x,\\delta_y,\\delta_z\\right] \\cdot \\left[-\\delta_xV,-\\delta_yV,-\\delta_zV\\right] = -\\left(\\delta_x^2V + \\delta_y^2V + \\delta_z^2V\\right) = -\\nabla^2 V,\n",
    "\\end{equation}\n",
    "so, \n",
    "\\begin{equation}\n",
    "\\nabla^2V = -\\frac{\\rho}{\\epsilon_0}\n",
    "\\end{equation}\n",
    "where, $\\nabla^2 = \\frac{\\partial^2}{\\partial x^2} + \\frac{\\partial^2}{\\partial y^2} + \\frac{\\partial^2}{\\partial z^2}$.\n",
    "\n",
    "This simplifies when we restrict ourselves to the case where we are considering the potential in regions where there are absolutely no charges (e.g., $\\rho = 0$).  Then we have:\n",
    "\\begin{equation}\n",
    "\\nabla^2 V= 0.  ~~~~~~~~ ~~~~~~~~ ~~~~~~~~ \\mbox{  (5) }\n",
    "\\end{equation}\n",
    "Equation 5 is just saying that the second derivative of the potential $V$ is zero in regions where there are no charges.  If this were one dimensional then this would mean that the potential can have slopes and nothing more complicated that that.    \n",
    "\n",
    "A TLDR: The ingredients for Equation 5:\n",
    "- Coulomb's law, Equation (2) and (3) with the integral and differential forms\n",
    "- The definition of the potential, Equation (1) \n",
    "- The choice that we will only consider regions that are charge free.  \n",
    "\n",
    "Assuming our problem satisfies condition (c) then Equation 5 completely specifies the electric field and is equivalent to solving Coulomb's law.  Of course you need Equation (1) to recover the field.   You might think that (c) is a big restriction, but it isn't.  You just carefully cut out the regions that have charges, figure out the potential on the boundary of the regions you had to remove and then plug ahead with (5).   \n",
    "\n",
    "\n",
    "The generalization of this statement to 2 and 3 dimensions will lend itself to a very easy numerical method for solving for the potential.  We'll come back to this in the next section."
   ]
  },
  {
   "cell_type": "markdown",
   "metadata": {},
   "source": [
    "## Relaxing the potential in 1-d\n",
    "\n",
    "Now, we exploit the fact that \"the potential has slopes, and nothing else\" for the $\\rho=0$ (i.e. $\\nabla^2V=0$), and we use the method of relaxation to calculate the potential at all points, given the boundary conditions.  \n",
    "\n",
    "For 1-d, (e.g. $\\frac{d^2 V(x)}{d x^2} = 0$), the solution is $V(x) = ax + b$, or a straight line with a slope.  For a straight line, the potential at any point is the average of the value at points an equal distance to the right and left of that point, e.g. $V(x_i) = \\left(V(x_{i+1}) + V(x_{i-1})\\right)/2$.  \n",
    "\n",
    "The extension to two dimensions is that the potential at any point is the average of the potential in a circle around that point (all points equidistant in 2d).  The extension to three dimensions is that potential at any point is the average of the potential in a sphere (again, all points equidistant in 3d).  We are exploiting [Taylor's theorem](https://en.wikipedia.org/wiki/Taylor%27s_theorem).  \n",
    "\n",
    "**Group exercise** (5 min -- 2 points): Let us first set up boundary conditions of the potential in 1-d.  \n",
    "- First, set up some one-dimensional position coordinates, `x_positions_1d = np.arange(0,20,0.2)`\n",
    "- Start with a 1-d array, `potential_1d` of zeros with the same shape as `x_positions_1d`.\n",
    "- Set the boundary conditions for the first (left edge) and last elements (right edge) of `potential_1d` to be -100 and 100 respectively"
   ]
  },
  {
   "cell_type": "code",
   "execution_count": 132,
   "metadata": {
    "nbgrader": {
     "grade": false,
     "grade_id": "cell-58f5ca2df30bc119",
     "locked": false,
     "schema_version": 3,
     "solution": true,
     "task": false
    }
   },
   "outputs": [],
   "source": [
    "# Define x_positions_1d, and potential_1d here\n",
    "### BEGIN SOLUTION\n",
    "x_positions_1d = np.arange(0,20,0.2)\n",
    "potential_1d = np.zeros(x_positions_1d.shape)\n",
    "potential_1d[0] = -100\n",
    "potential_1d[-1] = 100\n",
    "### END SOLUTION"
   ]
  },
  {
   "cell_type": "code",
   "execution_count": 133,
   "metadata": {
    "nbgrader": {
     "grade": true,
     "grade_id": "cell-f6ff2842b60285f8",
     "locked": true,
     "points": 2,
     "schema_version": 3,
     "solution": false,
     "task": false
    }
   },
   "outputs": [],
   "source": [
    "\"\"\"Execute to check you're on the right track\"\"\"\n",
    "assert(potential_1d.shape == x_positions_1d.shape)\n",
    "### BEGIN HIDDEN TESTS\n",
    "assert((x_positions_1d == np.arange(0,20,0.2)).all())\n",
    "assert((potential_1d[1:-1] == 0).all())\n",
    "assert(potential_1d[0] == -100)\n",
    "assert(potential_1d[-1] == 100)\n",
    "### END HIDDEN TESTS"
   ]
  },
  {
   "cell_type": "markdown",
   "metadata": {},
   "source": [
    "Now, we numerically enforce that $\\frac{d^2 V(x)}{d x^2} = 0$, by iteratively setting $V(x_i) = \\left(V(x_{i+1}) + V(x_{i-1})\\right)/2$ and setting the boundary conditions.  Note, this is now the `potential_right` and `potential_left` that we can define using `np.roll` from the preflight.  In the next exercise, we do *one* such iteration.\n",
    "\n",
    "**Group exercise** (5 min -- 2 points): Define a function `relax_potential_1d` that takes in the potential array as an argument, uses `np.roll` to define `potential_right` ($V(x_{i+1})$) and `potential_left` ($V(x_{i-1})$), and returns the average with the boundary conditions set.  Below, you'll need to: \n",
    "- fill in the missing pieces of the function by defining `potential_right` and \n",
    "- enforce the boundary conditions determined by the key word arguments as you did in the previous exercise."
   ]
  },
  {
   "cell_type": "code",
   "execution_count": 134,
   "metadata": {
    "nbgrader": {
     "grade": false,
     "grade_id": "cell-ed70cc62db70aafb",
     "locked": false,
     "schema_version": 3,
     "solution": true,
     "task": false
    }
   },
   "outputs": [],
   "source": [
    "def relax_potential_1d(potential_array, left_edge_condition = -100, right_edge_condition = 100) :\n",
    "    \"\"\"Returns relaxed 1-d potential array with set boundary conditions.  \n",
    "\n",
    "    Inputs:\n",
    "    potential_array (n-darray) : array containing the potential at each sampled point \n",
    "    left_edge_condition (float) : value of potential on left edge\n",
    "    right_edge_condition (float) : value of potential on right edge\n",
    "\n",
    "    Outputs:\n",
    "    relaxed_potential (n-darray) : array containing the relaxed potential at each sampled point with boundary conditions set     \n",
    "    \"\"\"\n",
    "    \n",
    "    # Define potential_left and potential_right using np.roll (i.e. V(x_{i-1}) and V(x_{i+1})\n",
    "    potential_left = np.roll(potential_array,-1) # This is V(x_{i-1})\n",
    "    ### BEGIN SOLUTION\n",
    "    potential_right = np.roll(potential_array,1)\n",
    "    ### END SOLUTION\n",
    "    \n",
    "    relaxed_potential = np.mean(np.array([potential_left, potential_right]),axis=0)\n",
    "    \n",
    "    # Set boundary conditions\n",
    "    ### BEGIN SOLUTION\n",
    "    relaxed_potential[0] = left_edge_condition\n",
    "    relaxed_potential[-1] = right_edge_condition\n",
    "    ### END SOLUTION\n",
    "    \n",
    "    return relaxed_potential"
   ]
  },
  {
   "cell_type": "code",
   "execution_count": 135,
   "metadata": {
    "nbgrader": {
     "grade": true,
     "grade_id": "cell-03ddaf533230c6a4",
     "locked": true,
     "points": 2,
     "schema_version": 3,
     "solution": false,
     "task": false
    }
   },
   "outputs": [],
   "source": [
    "\"\"\"Execute to check you're on the right track\"\"\"\n",
    "assert(relax_potential_1d(potential_1d).shape == potential_1d.shape)\n",
    "### BEGIN HIDDEN TESTS\n",
    "assert(relax_potential_1d(potential_1d)[0] ==-100)\n",
    "### END HIDDEN TESTS"
   ]
  },
  {
   "cell_type": "markdown",
   "metadata": {},
   "source": [
    "### Iterate over the relaxation step\n",
    "\n",
    "Let's now iterate over relaxing the potential for 500 steps, and see how it changes every 100 steps."
   ]
  },
  {
   "cell_type": "code",
   "execution_count": 136,
   "metadata": {},
   "outputs": [],
   "source": [
    "# Initialize the potential\n",
    "potential_1d = np.zeros(x_positions_1d.shape)\n",
    "\n",
    "# Take snapshots of the relaxing potential\n",
    "potential_snapshots = []\n",
    "\n",
    "# Relax over 500 iterations\n",
    "for step in np.arange(500) :\n",
    "    potential_1d = relax_potential_1d(potential_1d)\n",
    "    if step % 100 == 0 :\n",
    "        potential_snapshots.append(potential_1d)"
   ]
  },
  {
   "cell_type": "markdown",
   "metadata": {},
   "source": [
    "### Plot snapshots of the relaxation"
   ]
  },
  {
   "cell_type": "code",
   "execution_count": 137,
   "metadata": {},
   "outputs": [
    {
     "data": {
      "text/plain": [
       "<matplotlib.legend.Legend at 0x7f9a6d587280>"
      ]
     },
     "execution_count": 137,
     "metadata": {},
     "output_type": "execute_result"
    },
    {
     "data": {
      "image/png": "[encoded data removed]",
      "text/plain": [
       "<Figure size 432x288 with 1 Axes>"
      ]
     },
     "metadata": {
      "needs_background": "light"
     },
     "output_type": "display_data"
    }
   ],
   "source": [
    "for i, potential_snapshot in enumerate(potential_snapshots) :\n",
    "    plt.plot(x_positions_1d, potential_snapshot, label='%ith step'%(i*100))\n",
    "    \n",
    "plt.xlabel('x', fontsize='xx-large')\n",
    "plt.ylabel('V', fontsize='xx-large')\n",
    "plt.legend()"
   ]
  },
  {
   "cell_type": "markdown",
   "metadata": {},
   "source": [
    "**Discussion question** (2 min -- 2 points) : What is happening to the potential as we do more and more iterations (steps)?  What do you expect to happen as we go towards infinite iterations (e.g. steps $\\rightarrow\\inf$)?"
   ]
  },
  {
   "cell_type": "markdown",
   "metadata": {
    "nbgrader": {
     "grade": true,
     "grade_id": "cell-c8b6b7fca3fb1dd0",
     "locked": false,
     "points": 2,
     "schema_version": 3,
     "solution": true,
     "task": false
    }
   },
   "source": [
    "**Answer**:\n",
    "The potential converges, as the difference between the potential in a previous step and this one decreases."
   ]
  },
  {
   "cell_type": "markdown",
   "metadata": {},
   "source": [
    "**Group Exercise:** (10 min -- 5 points)  You will now refactor the code where we relaxed the potential over 500 steps.  *Code refactoring* refers to improving existing code.\n",
    "\n",
    "Old code:\n",
    "```\n",
    "# Initialize the potential\n",
    "potential_1d = np.zeros(x_positions_1d.shape)\n",
    "\n",
    "# Take snapshots of the relaxing potential\n",
    "potential_snapshots = []\n",
    "\n",
    "# Relax over 500 iterations\n",
    "for step in np.arange(500) :\n",
    "    potential_1d = relax_potential_1d(potential_1d)\n",
    "    if step % 100 == 0 :\n",
    "        potential_snapshots.append(potential_1d)\n",
    "```\n",
    "In the next cell, you will refactor this code to continue iterations until \"convergence\" to avoid hard coding the number of iterations.  In this case, your code will not assume a number of iterations (e.g. 500), but stops once the largest difference between the potential at a given point in the previous iteration and the potential at that given point in the current iteration is less than 0.01.  We will use 0.01 as a criterion for *convergence*, and you will use a `while` loop.  \n",
    "\n",
    "A simple example of the `while` loop is:\n",
    "```\n",
    "i = 20\n",
    "while i > 10 : \n",
    "    i -= 1\n",
    "    print(i)\n",
    "```\n",
    "The above code will print 20, 19, ... 11 and then exit the loop once the boolean fails.\n",
    "\n",
    "The skeleton to the code you will need to write is below where we have already defined `convergence_criterion`, initialized the `largest_iteration_difference` (serving the same purpose as the variable i in the example).  The step of initializing the potential, and creating an empty `list`, `largest_iteration_differences` to collect the largest iteration is also already below.  You will need to fill out the `while` loop. Some suggestions:\n",
    "- You will need to compare both the relaxed potential (i.e. the returned array from the function `relax_potential_1d`) and the potential just before the relaxation.  The first line inside the `while` loop will help you do this.\n",
    "- You will care about the largest difference between the two, e.g. `np.max(np.abs(relaxed_potential - potential_1d))`.  "
   ]
  },
  {
   "cell_type": "code",
   "execution_count": 138,
   "metadata": {
    "nbgrader": {
     "grade": false,
     "grade_id": "cell-e24f304041d2ce81",
     "locked": false,
     "schema_version": 3,
     "solution": true,
     "task": false
    }
   },
   "outputs": [],
   "source": [
    "# Refactored code here\n",
    "\n",
    "convergence_criterion = 0.01\n",
    "largest_iteration_difference = 1 # initialize\n",
    "\n",
    "# Initialize the potential\n",
    "potential_1d = np.zeros(x_positions_1d.shape)\n",
    "\n",
    "# Collect the largest_iteration_difference\n",
    "largest_iteration_differences = []\n",
    "\n",
    "while largest_iteration_difference > convergence_criterion :\n",
    "    relaxed_potential = relax_potential_1d(potential_1d)\n",
    "    ### BEGIN SOLUTION\n",
    "    largest_iteration_difference = np.max(np.abs(relaxed_potential - potential_1d))\n",
    "    largest_iteration_differences.append(largest_iteration_difference)\n",
    "    potential_1d = relaxed_potential\n",
    "### END SOLUTION"
   ]
  },
  {
   "cell_type": "code",
   "execution_count": 139,
   "metadata": {
    "nbgrader": {
     "grade": true,
     "grade_id": "cell-e087d7331c8d1f21",
     "locked": true,
     "points": 5,
     "schema_version": 3,
     "solution": false,
     "task": false
    }
   },
   "outputs": [],
   "source": [
    "\"\"\"Execute to check you are on the right track\"\"\"\n",
    "assert(largest_iteration_difference <= convergence_criterion)\n",
    "### BEGIN HIDDEN TESTS\n",
    "assert((relaxed_potential == potential_1d).all())\n",
    "### END HIDDEN TESTS"
   ]
  },
  {
   "cell_type": "markdown",
   "metadata": {},
   "source": [
    "Below, we plot \n",
    "- how quickly the relaxation method converged, and also \n",
    "- the final 1d potential.\n",
    "\n",
    "Note, we make use of the subplots method, where we can have multiple axes on a single figure."
   ]
  },
  {
   "cell_type": "code",
   "execution_count": 140,
   "metadata": {},
   "outputs": [
    {
     "data": {
      "text/plain": [
       "Text(0, 0.5, 'V')"
      ]
     },
     "execution_count": 140,
     "metadata": {},
     "output_type": "execute_result"
    },
    {
     "data": {
      "image/png": "[encoded data removed]",
      "text/plain": [
       "<Figure size 864x504 with 2 Axes>"
      ]
     },
     "metadata": {
      "needs_background": "light"
     },
     "output_type": "display_data"
    }
   ],
   "source": [
    "fig, (ax1, ax2) = plt.subplots(1,2, figsize=(12,7))\n",
    "ax1.plot(largest_iteration_differences)\n",
    "ax1.set_yscale('log')\n",
    "ax1.set_xlabel('Iteration', fontsize='xx-large')\n",
    "ax1.set_ylabel('$(\\Delta V)_{max}$', fontsize='xx-large')\n",
    "\n",
    "ax2.plot(x_positions_1d, potential_1d)\n",
    "ax2.set_xlabel('x', fontsize='xx-large')\n",
    "ax2.set_ylabel('V', fontsize='xx-large')"
   ]
  },
  {
   "cell_type": "markdown",
   "metadata": {},
   "source": [
    "## Calculate the electric field\n",
    "\n",
    "Now, we will take the 1-d potential, and calculate the electric field.  Recall, to calculate $E$ from $V$, you must calculate the vector of partial derivatives of $V$. In 1d, to compute $E_x = -\\partial V/\\partial x$, you would take a first derivative using only the $x$-components of $V$.  \n",
    "\n",
    "**Quick exercise** (2 min -- 2 points) : Define a function `calc_efield_1d(potential_array)` using `np.gradient`."
   ]
  },
  {
   "cell_type": "code",
   "execution_count": 141,
   "metadata": {
    "nbgrader": {
     "grade": false,
     "grade_id": "cell-843296d66956acc5",
     "locked": false,
     "schema_version": 3,
     "solution": true,
     "task": false
    }
   },
   "outputs": [],
   "source": [
    "def calc_efield_1d(potential_array) :\n",
    "    \"\"\"Calculate the electric field in one dimension\n",
    "\n",
    "    Inputs:\n",
    "    potential_array (n-darray) : array containing the potential at each sampled point \n",
    "\n",
    "    Outputs:\n",
    "    efield_array (n-darray) : array containing the corresponding efield at each sampled point     \n",
    "    \"\"\"\n",
    "    \n",
    "    ### BEGIN SOLUTION\n",
    "    return np.gradient(potential_array)\n",
    "    ### END SOLUTION"
   ]
  },
  {
   "cell_type": "code",
   "execution_count": 142,
   "metadata": {
    "nbgrader": {
     "grade": true,
     "grade_id": "cell-f49537c8f7c926ac",
     "locked": true,
     "points": 2,
     "schema_version": 3,
     "solution": false,
     "task": false
    }
   },
   "outputs": [],
   "source": [
    "\"\"\"Execute to check you're on the right track\"\"\"\n",
    "assert((calc_efield_1d(np.zeros(20))==np.zeros(20)).all())\n",
    "### BEGIN HIDDEN TESTS\n",
    "assert((calc_efield_1d(potential_1d) == np.gradient(potential_1d)).all())\n",
    "### END HIDDEN TESTS"
   ]
  },
  {
   "cell_type": "markdown",
   "metadata": {},
   "source": [
    "**Quick plot** (2 min -- 2 points): Use the `plt.subplots` method to generate two axes on a single figure on which you will plot the 1d potential and 1d electric field side by side.  You'll notice some noise in the electric field.  \n",
    "\n",
    "Try setting `convergence_criterion = 0.001` where it was set before, and run all cells after.  How does the electric field change? "
   ]
  },
  {
   "cell_type": "code",
   "execution_count": 143,
   "metadata": {
    "nbgrader": {
     "grade": true,
     "grade_id": "cell-b4ece72fdb43bb81",
     "locked": false,
     "points": 2,
     "schema_version": 3,
     "solution": true,
     "task": false
    }
   },
   "outputs": [
    {
     "data": {
      "text/plain": [
       "Text(0, 0.5, 'E')"
      ]
     },
     "execution_count": 143,
     "metadata": {},
     "output_type": "execute_result"
    },
    {
     "data": {
      "image/png": "[encoded data removed]",
      "text/plain": [
       "<Figure size 864x504 with 2 Axes>"
      ]
     },
     "metadata": {
      "needs_background": "light"
     },
     "output_type": "display_data"
    }
   ],
   "source": [
    "# Plot the potential and efield here\n",
    "fig, (ax1, ax2) = plt.subplots(1,2, figsize=(12,7))\n",
    "### BEGIN SOLUTION\n",
    "ax1.plot(x_positions_1d, potential_1d)\n",
    "ax1.set_xlabel('x', fontsize='xx-large')\n",
    "ax1.set_ylabel('V', fontsize='xx-large')\n",
    "\n",
    "ax2.plot(x_positions_1d, calc_efield_1d(potential_1d))\n",
    "ax2.set_xlabel('x', fontsize='xx-large')\n",
    "ax2.set_ylabel('E', fontsize='xx-large')\n",
    "\n",
    "### END SOLUTION"
   ]
  },
  {
   "cell_type": "markdown",
   "metadata": {},
   "source": [
    "# Phys 260 Python Lab 3: Relaxing the potential in 2d with boundary conditions: The setup for modeling a capacitor (10 points total)\n",
    "\n",
    "\n",
    "Your homework assignment begins here.  Note, the homework below relies on code built during the tutorial (above)\n",
    "\n",
    "\n",
    "## Homework summary \n",
    "- Extending the method of relaxation in 2d\n",
    "- Plotting the 2d scalar field of the potential and vector field of $\\vec{E}$"
   ]
  },
  {
   "cell_type": "markdown",
   "metadata": {},
   "source": [
    "The extension to 2d sets us up for modeling a capacitor, which we will do next week.  \n",
    "\n",
    "Our 2-d potential that we will discretize and solve for will be Equation (5), explicitly written as:\n",
    "\\begin{equation}\n",
    "\\frac{\\partial^2V}{\\partial x^2} + \\frac{\\partial^2 V}{\\partial y^2}  = 0.~~~~~~~~ ~~~~~~~~ ~~~~~~~~ \\mbox{  (6) }\n",
    "\\end{equation}\n",
    "\n",
    "\n",
    "\n",
    "In 2d, the relaxation process involves setting the potential at any given point equal to the potential in a circle around it.  On a grid, this corresponds to the points above, below, to the left, and to the right. \n",
    "\n",
    "You will do an analogous iterative method to solve for the potential in 2d. Recall the steps:\n",
    "\n",
    "Step 1:  Use `np.meshgrid` to divide the space into a grid with a uniform grid spacing $\\delta$.\n",
    "\n",
    "Step 2:  Initialize the potential of the grid to match the boundary conditions specified in the problem.\n",
    "\n",
    "Step 3:  Replace the potential within each cell inside the grid with the average of the potential in the cells above, below, left and right of it, enforcing boundary conditions.\n",
    "\n",
    "\\begin{equation}\n",
    "V(x,y) = \\frac 1 4 \\left[ V(x+\\delta,y) + V(x-\\delta,y) + V(x,y+\\delta) + V(x,y-\\delta)\\right]~~~~~~~~ ~~~~~~~~ ~~~~~~~~ \\mbox{  (7) }\n",
    "\\end{equation}\n",
    "\n",
    "Step 4: Repeat steps 2 and 3 enough times for the results to converge.  Use the new grid as input for step 3 each time you repeat.\n",
    "\n",
    "To do this, we write other functions that:\n",
    "\n",
    "- Sets the boundary conditions in 2d with `set_boundary_conditions`\n",
    "- Relax the potential through an iterative gradient while resetting the boundary conditions on each iteration. "
   ]
  },
  {
   "cell_type": "code",
   "execution_count": 144,
   "metadata": {},
   "outputs": [
    {
     "name": "stdout",
     "output_type": "stream",
     "text": [
      "(2, 80, 40)\n"
     ]
    }
   ],
   "source": [
    "# Set up a 2-d grid with np.meshgrid: a 4x8 rectangle, with 80 points per value\n",
    "x_positions, y_positions = np.meshgrid(np.linspace(-4,4,80), np.linspace(-2,2,40), indexing='ij')\n",
    "position_array = np.array([x_positions,y_positions])\n",
    "print(position_array.shape)\n",
    "\n",
    "# Every point in our meshgrid will have a potential (this is our scalar field)\n",
    "potential = np.zeros(x_positions.shape)"
   ]
  },
  {
   "cell_type": "markdown",
   "metadata": {},
   "source": [
    "Below, we plot the position points that we are sampling, where the the points sampled were generated from `np.meshgrid`. "
   ]
  },
  {
   "cell_type": "code",
   "execution_count": 17,
   "metadata": {},
   "outputs": [
    {
     "name": "stdout",
     "output_type": "stream",
     "text": [
      "x varies across bottom edge and has shape:  (80,)\n",
      "x varies across top edge and has shape:  (80,)\n",
      "y varies across left edge and has shape:  (40,)\n",
      "y varies across right edge and has  shape:  (40,)\n"
     ]
    },
    {
     "data": {
      "text/plain": [
       "Text(0, 0.5, 'y [m]')"
      ]
     },
     "execution_count": 17,
     "metadata": {},
     "output_type": "execute_result"
    },
    {
     "data": {
      "image/png": "[encoded data removed]",
      "text/plain": [
       "<Figure size 432x288 with 1 Axes>"
      ]
     },
     "metadata": {
      "needs_background": "light"
     },
     "output_type": "display_data"
    }
   ],
   "source": [
    "print('x varies across bottom edge and has shape: ', potential[:,0].shape)\n",
    "print('x varies across top edge and has shape: ', potential[:,-1].shape)\n",
    "print('y varies across left edge and has shape: ', potential[0,:].shape)\n",
    "print('y varies across right edge and has  shape: ', potential[-1,:].shape)\n",
    "\n",
    "# Visualization of points sampled\n",
    "plt.scatter(x_positions, y_positions, s=0.2, alpha=0.5)\n",
    "plt.xlim(-5,5)\n",
    "\n",
    "# Horizontal lines\n",
    "plt.axhline(-2, xmin=-5,xmax=5, c='r', ls=':')\n",
    "plt.axhline(2, xmin=-5,xmax=5, c='r', ls=':')\n",
    "\n",
    "# Vertical lines\n",
    "plt.axvline(-4, ymin=-5,ymax=5)\n",
    "plt.axvline(4, ymin=-5,ymax=5)\n",
    "\n",
    "# Label what we will want to happen\n",
    "plt.annotate('V = 100V', (0, 2.1))\n",
    "plt.annotate('V = -100V', (0, -2.4))\n",
    "\n",
    "plt.annotate('V=0V', (-4.4,-2.3), rotation=90)\n",
    "plt.annotate('V=0V', (4.,-2.3), rotation=-90)\n",
    "\n",
    "plt.ylim(-5,5)\n",
    "plt.gca().set_aspect('equal')\n",
    "plt.xlabel('x [m]', fontsize='xx-large')\n",
    "plt.ylabel('y [m]', fontsize='xx-large')"
   ]
  },
  {
   "cell_type": "markdown",
   "metadata": {},
   "source": [
    "**Group exercise** (5 min): Recall, you can set values in an array.  Let us create an array of zeros, `example_edge_conditioned_array` using `np.zeros`, with shape (10,1).  Let us set the first and last elements of `example_edge_conditioned_array` equal to 1. "
   ]
  },
  {
   "cell_type": "code",
   "execution_count": 4,
   "metadata": {
    "nbgrader": {
     "grade": false,
     "grade_id": "cell-b611ff8e0064e10e",
     "locked": false,
     "schema_version": 3,
     "solution": true,
     "task": false
    }
   },
   "outputs": [],
   "source": [
    "# Define example_edge_array here\n",
    "### BEGIN SOLUTION\n",
    "example_edge_conditioned_array = np.zeros((10,1))\n",
    "example_edge_conditioned_array[0] = 1\n",
    "example_edge_conditioned_array[-1] = 1\n",
    "### END SOLUTION"
   ]
  },
  {
   "cell_type": "code",
   "execution_count": 5,
   "metadata": {
    "nbgrader": {
     "grade": true,
     "grade_id": "cell-1c9b6e8b62ddb5df",
     "locked": true,
     "points": 2,
     "schema_version": 3,
     "solution": false,
     "task": false
    }
   },
   "outputs": [],
   "source": [
    "\"\"\"Execute to check you're on the right track\"\"\"\n",
    "assert(example_edge_conditioned_array.shape == (10,1))\n",
    "### BEGIN HIDDEN TESTS\n",
    "test_conditioned_array = np.zeros((10,1))\n",
    "test_conditioned_array[0] = 1\n",
    "test_conditioned_array[-1] = 1\n",
    "assert((example_edge_conditioned_array == test_conditioned_array).all())\n",
    "### END HIDDEN TESTS"
   ]
  },
  {
   "cell_type": "markdown",
   "metadata": {},
   "source": [
    "**Group exercise** (5 min): Analogous to what we did for a 1-d array, `example_edge_conditioned_array`, let us do the same thing for a 2-d array, `potential`.  We wish to set boundary conditions such that:\n",
    "```\n",
    "x_edges = 0\n",
    "y_edge_top = 100\n",
    "y_edge_bottom = -100\n",
    "```\n",
    "See the plot we made above for the visualization of the boundary conditions.  Note, you should be able to see that the edge that is shorter has the 0 potential.  We printed out the shape of the array's edges above (we sliced the array to access elements along the edges).  **Note:** There are overlapping corners.  Set the short edges first, and the long edges second so the corners are set to -100 or 100.\n",
    "\n",
    "There are two ways you can try to do this:\n",
    "\n",
    "- Identify the edges through the first and/or last element indexing (e.g. 0 or -1) or\n",
    "- Identify the indices corresponding the the min/max x positions or the min/max y positions (`np.argmax` and `np.abs` would be useful for this, or as an alternative np.where).\n",
    "\n",
    "The latter approach would be agnostic to indexing order.  Use the former for the short in-class exercise."
   ]
  },
  {
   "cell_type": "code",
   "execution_count": 6,
   "metadata": {
    "nbgrader": {
     "grade": false,
     "grade_id": "cell-3a7cb37a7db3a2c9",
     "locked": false,
     "schema_version": 3,
     "solution": true,
     "task": false
    }
   },
   "outputs": [],
   "source": [
    "# Define boundary conditions\n",
    "x_edges = 0\n",
    "y_edge_top = 100\n",
    "y_edge_bottom = -100\n",
    "\n",
    "# Impose boundary conditions below\n",
    "### BEGIN SOLUTION\n",
    "potential[0,:] = 0\n",
    "potential[-1,:] = 0\n",
    "potential[:,0] = -100\n",
    "potential[:,-1] = 100\n",
    "### END SOLUTION"
   ]
  },
  {
   "cell_type": "code",
   "execution_count": 9,
   "metadata": {
    "nbgrader": {
     "grade": true,
     "grade_id": "cell-bbc9f7612f3a0cda",
     "locked": true,
     "points": 2,
     "schema_version": 3,
     "solution": false,
     "task": false
    }
   },
   "outputs": [],
   "source": [
    "\"\"\"Execute to check you're on the right track\"\"\"\n",
    "assert((potential[0,1:-1]==0).all())\n",
    "### BEGIN HIDDEN TESTS\n",
    "assert((potential[-1,1:-1]==0).all())\n",
    "assert((potential[:,0]==-100).all())\n",
    "assert((potential[:,-1]==100).all())\n",
    "### END HIDDEN TESTS"
   ]
  },
  {
   "cell_type": "markdown",
   "metadata": {},
   "source": [
    "Below, we write a function that finds the edges of an array based on the position array (using `np.argmax` and `np.abs` as previously described), and sets the corresponding potential array to the specified boundary conditions. "
   ]
  },
  {
   "cell_type": "code",
   "execution_count": 11,
   "metadata": {},
   "outputs": [],
   "source": [
    "def set_boundary_conditions(potential_array, pts_in_meshgrid, \n",
    "                            bounds_left=0, bounds_right=0, \n",
    "                            bounds_top=100, bounds_bottom=-100,\n",
    "                            bounds_front=None, bounds_back=None) :\n",
    "    \"\"\" Returns potential array with set boundary conditions.  Sets in order of x edges, y edges, then z edges (if 3-d)\n",
    "\n",
    "    Inputs:\n",
    "    potential_array (n by m-darray) : array containing the potential at each sampled point \n",
    "    pts_in_meshgrid (n by m-darray) : x, y, and z positions for field points\n",
    "    bounds_right (float) : value of potential on right edge\n",
    "    bounds_left (float) : value of potential on left edge\n",
    "    bounds_top (float) : value of potential on top edge\n",
    "    bounds_bottom (float) : value of potential on bottom edge\n",
    "\n",
    "    Outputs:\n",
    "    potential_array (n by m-darray) : array containing the potential at each sampled point with boundary conditions set \n",
    "    \"\"\"\n",
    "    \n",
    "    # Separate out the position arrays along each axis for readability\n",
    "    x_positions = pts_in_meshgrid[0]\n",
    "    y_positions = pts_in_meshgrid[1]\n",
    "    if pts_in_meshgrid.shape[0] == 3 :\n",
    "        z_positions = pts_in_meshgrid[2]\n",
    "\n",
    "    # Identify the edges\n",
    "    right_edge_mask = np.argmax(x_positions)\n",
    "    left_edge_mask = np.argmin(x_positions)\n",
    "    top_edge_mask = np.argmax(y_positions)\n",
    "    bottom_edge_mask = np.argmin(y_positions)\n",
    "    if pts_in_meshgrid.shape[0] == 3 :\n",
    "        assert(bounds_front != None)\n",
    "        assert(bounds_back != None)\n",
    "        front_edge_mask = np.argmax(z_positions)\n",
    "        back_edge_mask = np.argmin(z_positions)\n",
    "    \n",
    "    # Set the bounds\n",
    "    potential_array[right_edge_mask] = bounds_right    \n",
    "    potential_array[left_edge_mask] = bounds_left\n",
    "    potential_array[top_edge_mask] = bounds_top\n",
    "    potential_array[bottom_edge_mask] = bounds_bottom\n",
    "    if pts_in_meshgrid.shape[0] == 3 :\n",
    "        potential_array[front_edge_mask] = bounds_front    \n",
    "        potential_array[back_edge_mask] = bounds_back\n",
    "        \n",
    "    return potential_array"
   ]
  },
  {
   "cell_type": "markdown",
   "metadata": {},
   "source": [
    "**Open question** (5min): \n",
    "- What do the `right_edge_mask` (analogously `left_edge_mask`, etc.) represent?  What does `x_positions[right_edge_mask]` give you?\n",
    "- Why do we need the `if` statements?\n"
   ]
  },
  {
   "cell_type": "markdown",
   "metadata": {
    "nbgrader": {
     "grade": true,
     "grade_id": "cell-92bf2da2116f99cb",
     "locked": false,
     "points": 2,
     "schema_version": 3,
     "solution": true,
     "task": false
    }
   },
   "source": [
    "**Answers**:\n",
    "- The indices where the x_positions are at a minimum, so `x_positions[right_edge_mask]` gives you the smallest element(s) in `x_positions`\n",
    "- The `if` statements account for the possibility of working in 3d and setting up boundary conditions on the z-edges (third dimension).\n"
   ]
  },
  {
   "cell_type": "code",
   "execution_count": null,
   "metadata": {},
   "outputs": [],
   "source": [
    "def relax_potential() :\n",
    "    "
   ]
  },
  {
   "cell_type": "markdown",
   "metadata": {},
   "source": [
    "## Effects of discretization: Example with Gauss' Law"
   ]
  },
  {
   "cell_type": "markdown",
   "metadata": {},
   "source": [
    "## Gauss' law due to a spherical insulator\n",
    "\n",
    "Gauss' law states that a closed surface has a total flux equal to the charge enclosed.  We will write a function, `calc_efield_sphere_gauss` that calculates the electric field due to an insulating sphere that we discussed in the tutorial portion, e.g. the And compare with the numerical calculation from discretized charge in the tutorial."
   ]
  },
  {
   "cell_type": "code",
   "execution_count": null,
   "metadata": {},
   "outputs": [],
   "source": [
    "# Let's first define our field points, points_in_meshgrid"
   ]
  },
  {
   "cell_type": "code",
   "execution_count": null,
   "metadata": {},
   "outputs": [],
   "source": [
    "# Let's define our charge points"
   ]
  },
  {
   "cell_type": "code",
   "execution_count": null,
   "metadata": {},
   "outputs": [],
   "source": [
    "# Let's define our functions that calculate the efield due to an array of charges"
   ]
  },
  {
   "cell_type": "markdown",
   "metadata": {},
   "source": []
  },
  {
   "cell_type": "code",
   "execution_count": null,
   "metadata": {},
   "outputs": [],
   "source": [
    "def calc_efield_sphere_gauss(points_in_meshgrid, sphere_radius=1, Q=1) :\n",
    "    '''\n",
    "    \n",
    "    '''\n",
    "    \n",
    "### BEGIN SOLUTION\n",
    "    pass\n",
    "### END SOLUTION"
   ]
  },
  {
   "cell_type": "markdown",
   "metadata": {},
   "source": [
    "## Compare the Gauss' law (exact) calculation to the discretized version (2 points)\n",
    "\n",
    "Take the function, `calc_efield_sphere_gauss`, and calculate the electric field for `points_in_meshgrid`, `efield_sphere_gauss`.    "
   ]
  },
  {
   "cell_type": "code",
   "execution_count": null,
   "metadata": {},
   "outputs": [],
   "source": [
    "#  Calculate efield_sphere_gauss here\n",
    "### BEGIN SOLUTION\n",
    "efield_sphere_gauss = calc_efield_sphere_gauss(points_in_meshgrid)\n",
    "### END SOLUTION"
   ]
  },
  {
   "cell_type": "code",
   "execution_count": null,
   "metadata": {},
   "outputs": [],
   "source": [
    "\"\"\"Execute to check that you are properly calculating efield_sphere_gauss\"\"\"\n",
    "#assert()\n",
    "### BEGIN HIDDEN TESTS\n",
    "\n",
    "### END HIDDEN TESTS"
   ]
  },
  {
   "cell_type": "markdown",
   "metadata": {},
   "source": [
    "Now, let's plot the ratio between the two as measured along the x-axis ($y, z=0$).  First, identify the part of the arrays corresponding to the x-axis points."
   ]
  },
  {
   "cell_type": "code",
   "execution_count": null,
   "metadata": {},
   "outputs": [],
   "source": []
  },
  {
   "cell_type": "code",
   "execution_count": null,
   "metadata": {},
   "outputs": [],
   "source": []
  }
 ],
 "metadata": {
  "celltoolbar": "Create Assignment",
  "kernelspec": {
   "display_name": "Python 3",
   "language": "python",
   "name": "python3"
  },
  "language_info": {
   "codemirror_mode": {
    "name": "ipython",
    "version": 3
   },
   "file_extension": ".py",
   "mimetype": "text/x-python",
   "name": "python",
   "nbconvert_exporter": "python",
   "pygments_lexer": "ipython3",
   "version": "3.8.5"
  }
 },
 "nbformat": 4,
 "nbformat_minor": 2
}
