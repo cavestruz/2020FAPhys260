{
 "cells": [
  {
   "cell_type": "markdown",
   "metadata": {},
   "source": [
    "# Introduction -- Reminder\n",
    "\n",
    "Each Python lab will start with a pre-flight exercise that walks through building some of the set up and tools ($\\sim$ 30 min), followed by an in-class tutorial with time for Q+A (50 min) so you can walk through steps that will be necessary for the homework assignment you will submit ($\\sim$ 3 hrs).  Each lab will contain starter code, similar to what you see below.  Please fill in the code to complete the pre-flight assignment in preparation for the in-class tutorial.  \n",
    "\n",
    "Preflight ($\\sim$30-60 min, 10 points) **Typically due: Wednesdays 3pm EST**\n",
    "\n",
    "*Preflight typically graded by Wednesday 5p EST*\n",
    "\n",
    "In-class tutorial and Q+A ($\\sim$ 50 min, 10 points) **Typically occurs: Thursdays 9am EST**\n",
    "\n",
    "Homework assignment ($\\sim$ 3-5 hrs, 30 points) **Typically due: Mondays 9am EST** \n",
    "\n",
    "*Homework typically graded by Thursday 5p*\n",
    "\n",
    "When we grade your homework, we will not run your code. Once submitted, your notebook should have the outputs for all of your results.  Please do not include long outputs from debugging, beyond a few print statements and the requested visualizations (i.e. plots).\n",
    "\n",
    "**Grading:** When we grade your notebook, we will convert the .ipynb file to an HTML file.  We will be using [nbgrader](https://nbgrader.readthedocs.io/en/stable/) to grade your notebooks.  **Note:** If your ```IPython``` version is too old, we will *not* be able to grade your assignments.\n"
   ]
  },
  {
   "cell_type": "markdown",
   "metadata": {},
   "source": [
    "# Phys 260 Python Preflight 9: Review of time integration in circuits  (10 points total)\n",
    "\n",
    "## Preflight Summary\n",
    "- Brief review of time integration in circuits with a more complex case (preparing for RLC circuits)"
   ]
  },
  {
   "cell_type": "code",
   "execution_count": 1,
   "metadata": {},
   "outputs": [],
   "source": [
    "import numpy as np\n",
    "from matplotlib import pyplot as plt"
   ]
  },
  {
   "cell_type": "markdown",
   "metadata": {},
   "source": [
    "## Brief Review of Numerically Solving Circuits\n",
    "\n",
    "Most simple circuits can be solved using a variety of techniques.  As circuits become more complicated, or as the signals the circuits are processing become more complicated, finding an exact solution can become more difficult.  \n",
    "\n",
    "We learned in class that\n",
    "\\begin{equation}\n",
    "I = \\frac {dQ} {dt}\n",
    "\\end{equation}\n",
    "\n",
    "This simple definition implies that many circuits can be expressed in the language of differential equations. The purpose of this assignment is to learn how to solve these equations numerically. \n",
    "\n",
    "Consider a first-order equations of the form:\n",
    "\\begin{equation}\n",
    "\\frac {dx} {dt} = f(x,t).\n",
    "\\end{equation}\n",
    "\n",
    "The solution to this equation is a function $x(t)$ whose first derivative is $f$.\n",
    "To find the solution to such an equation, we also need boundary conditions, or starting points.  Suppose that we have a first-order differential equation and know the value of $x$ for some specific time $t$, that is we know $x(t)$.  The we can write the value of x some short time later as\n",
    "\\begin{equation}\n",
    "x(t+h) = x(t) + h \\frac {dx} {dt} + \\frac 1 2 h^2 \\frac {d^2x} {dt^2} + ...\n",
    "\\end{equation}\n",
    "\n",
    "\\begin{equation}\n",
    "x(t+h) = x(t) + h f(x,t) + h^2 \\frac {df(x,t)} {dt} + ...\n",
    "\\end{equation}\n",
    "\n",
    "If $h$ is small then $h^2$ is really small, and we can ignore it, and all higher terms of $h^n$.  This technique is called **Euler's method**.\n",
    "\n",
    "Using this, if we know the value of $x$ at some time $t$ we can find the value at some short time later.  We can then repeat this process and understand how $x$ changes over time. The set of $x$ values at a discrete set of $t$ values is the numerical solution to our differential equation.\n",
    "\n",
    "We also saw a more accurate method for time integration, called the **Runge-Kutta method**.\n",
    "\n",
    "\n",
    "\n",
    "**Preflight**\n",
    "- Numerically solving a more complex RC circuit"
   ]
  },
  {
   "cell_type": "markdown",
   "metadata": {},
   "source": [
    "### A more complex RC circuit\n",
    "\n",
    "In the problems above, you considered a simple $RC$ circuit. Now consider something a little more complicated:\n",
    "<img src=\"http://www-personal.umich.edu/~gerdes/img/RC_1.jpg\" height=\"400\" width=\"400\">\n",
    "\n",
    "You have seen circuits like this as written homework problems, and determined the time constant for charging the capacitor. Your task now is to model this circuit numerically using the same techniques as you did for the simple $RC$ circuit from Tutorial/HW 6. We will assume the values of the components are all known, and that the capacitor is uncharged at $t=0$. You wil need to find the charge $Q$ on the capacitor, and the three currents $I_1$, $I_2$, and $I_3$, as a function of time.  "
   ]
  },
  {
   "cell_type": "markdown",
   "metadata": {},
   "source": [
    "### Using LaTeX: Equations of motion (2 points)\n",
    "\n",
    "Using Kirchhoff's rules we can write down four linearly independent equations involving the three unknowns $Q$, $I_1$, $I_2$, and $I_3$,\n",
    "\\begin{eqnarray}\n",
    "I_3&=&\\left(I_2R_2 + \\frac{Q}{C}\\right)/R_3 \\;\\;\\;(1)\\\\\n",
    "I_2&=& \\left(V - \\frac{I_1}{R_1} - \\frac{Q}{C}\\right)/R_2 \\;\\;\\;(2) \\\\  \n",
    "I_1&=&  I_{2}+ I_{3} \\;\\;\\;(3)  \\\\\n",
    "\\end{eqnarray} \n",
    "and, with the new $I_2=\\frac{dQ}{dt}$, we know what to add to calculate the Q at the next timestep.  Thus, we have the relationships to update each $I$ and $Q$.  You will notice that we have written this in the order such that the current at the next timestep, i+1 step, depends on values from the previous timestep, ith step, (e.g. $I_{3,i+1}=I_{3,i+1}(I_{2,i},Q_{i})$).\n",
    "\n",
    "Show, in the next cell, how we arrive at these relationships."
   ]
  },
  {
   "cell_type": "markdown",
   "metadata": {
    "nbgrader": {
     "grade": true,
     "grade_id": "cell-1da99c8c80fc78d3",
     "locked": false,
     "points": 2,
     "schema_version": 3,
     "solution": true,
     "task": false
    }
   },
   "source": [
    "<b>One solution:</b>\n",
    "Starting with an inner left loop and the outermost loop, and the junction rule just before $R_2$, we have:\n",
    "\\begin{eqnarray}\n",
    "V &=& I_1R_1 + I_2R_2 +\\frac{Q}{C}\\;\\;\\;(1a)\\\\\n",
    "V &=& I_1R_1 + I_3R_3\\;\\;\\;(2a)\\\\\n",
    "I_1&=&I_2+I_3\\;\\;\\;(3a)\n",
    "\\end{eqnarray}\n",
    "\n",
    "Subtracting (1a) from (2a), we get the expression for $I_3=I_3(I_2, Q,const)$.  We can plug $I_3$ into (2a) to get $I_2=I_2(I_1,Q,const)$."
   ]
  },
  {
   "cell_type": "markdown",
   "metadata": {},
   "source": [
    "### Using LaTeX: Initial conditions (2 points)\n",
    "\n",
    "Write down the four initial conditions of what you want to solve for: the current in each of the three branches and the charge.  *Hint:* First write down the $R_{eq}$ at $t=0$ when the uncharged capacitor acts as a wire, and you can write down initial currents in terms of $R_{eq}$.  "
   ]
  },
  {
   "cell_type": "markdown",
   "metadata": {
    "nbgrader": {
     "grade": true,
     "grade_id": "cell-665ce9f24f0ba39d",
     "locked": false,
     "points": 2,
     "schema_version": 3,
     "solution": true,
     "task": false
    }
   },
   "source": [
    "**Solution:** At $t=0$, the capacitor acts like a wire, and the circuit looks like the resistor $R_1$ in series with the parallel combination of $R_2$ and $R_3$. Thus, $R_{eq}(t=0) = R_1 + R_2R_3/(R_2 + R_3)$. So our initial conditions are:\n",
    "\\begin{eqnarray}\n",
    "I_1 & = & V/R_{eq} \\\\\n",
    "I_2 & = & \\frac{V}{R_{eq}}\\frac{R_3}{R_2 + R_3}\\\\\n",
    "I_3 & = & \\frac{V}{R_{eq}}\\frac{R_2}{R_2 + R_3} \\\\\n",
    "Q & = & 0\n",
    "\\end{eqnarray}"
   ]
  },
  {
   "cell_type": "markdown",
   "metadata": {},
   "source": [
    "#### Define a class that models the complex RC circuit (3 points)\n",
    "\n",
    "Fill out the class below, `RCCircuitComplex`.  You will want to also define the characteristic timescale, `self.tau`, defined as $\\tau=(R_2 + R_1R_3/(R_1 + R_3))C$ ($R_2$ is in series with the capacitor, and $R_1$ and $R_3$ branch off in parallel from the current in the capacitor)."
   ]
  },
  {
   "cell_type": "code",
   "execution_count": 121,
   "metadata": {
    "nbgrader": {
     "grade": true,
     "grade_id": "cell-5bca1fee6efe40f8",
     "locked": false,
     "points": 3,
     "schema_version": 3,
     "solution": true,
     "task": false
    }
   },
   "outputs": [],
   "source": [
    "class RCCircuitComplex :\n",
    "    \"\"\" Models the more complex RCCircuit with three branches\n",
    "    \"\"\"\n",
    "    def __init__(self, r1, r2, r3, capacitance, q_capacitor, voltage_battery) :\n",
    "        \"\"\"\n",
    "        Parameters\n",
    "        ----------\n",
    "        r1 : float\n",
    "            value of resistance in ohms\n",
    "        r2 : float\n",
    "            value of resistance in ohms\n",
    "        r3 : float\n",
    "            value of resistance in ohms\n",
    "        capacitance : float \n",
    "            value of capacitance in Farads\n",
    "        q_capacitor : float\n",
    "            initial charge on capacitor\n",
    "        voltage_battery : float\n",
    "            voltage across battery\n",
    "        \"\"\"\n",
    "        \n",
    "        # Set, as attributes, constants of the problem (including self.tau, the equivalent to the rc_constant)\n",
    "        ### BEGIN SOLUTION \n",
    "        self.r1 = r1\n",
    "        self.r2 = r2\n",
    "        self.r3 = r3\n",
    "        self.capacitance = capacitance\n",
    "        self.voltage_battery = voltage_battery\n",
    "        self.r_equivalent = r1+r2*r3/(r2+r3)\n",
    "        # The time constant is a characteristic timescale of the system, analogous to the period in a spring\n",
    "        self.tau = (r2 + r1*r3/(r1 + r3))*self.capacitance#self.r_equivalent * self.capacitance\n",
    "        ### END SOLUTION\n",
    "        \n",
    "        # Use initial conditions to set the \"now\" values of the problem as attributes\n",
    "        ### BEGIN SOLUTION\n",
    "        self.q_now = q_capacitor\n",
    "        self.i1_now = voltage_battery / self.r_equivalent\n",
    "        self.i2_now = self.i1_now * self.r3 / (self.r2+self.r3)\n",
    "        self.i3_now = self.i1_now * self.r2 / (self.r2+self.r3)\n",
    "        ### END SOLUTION\n",
    "        \n",
    "        # Initialize the current, charge, and timesteps\n",
    "        self.i1_vals = []\n",
    "        self.i2_vals = []\n",
    "        self.i3_vals = []\n",
    "        self.q_vals = []\n",
    "        self.timesteps = np.array([]) \n",
    "\n",
    "    def _set_now_vals(self) :\n",
    "        \"\"\"Calculate \"now\" current and capacitor charge in terms of other attributes, setting attributes\"\"\"\n",
    "        ### BEGIN SOLUTION\n",
    "        vcap = self.q_now/self.capacitance\n",
    "        vr2 = self.i2_now*self.r2\n",
    "        vr1 = self.i1_now*self.r1\n",
    "\n",
    "        self.i3_now = (vr2 + vcap)/self.r3\n",
    "        self.i2_now = (self.voltage_battery - vr1 - vcap)/self.r2\n",
    "        self.i1_now = self.i2_now+self.i3_now\n",
    "\n",
    "        self.q_now += self.i2_now * self.dt\n",
    "        ### END SOLUTION\n",
    "                \n",
    "    def _set_timesteps(self, num_timescales, num_timesteps_per_timescale) :        \n",
    "        \"\"\"Internal method. Sets the attributes num_timesteps and dt.\n",
    "        Parameters\n",
    "        ----------\n",
    "        num_timescales : floattimestep \n",
    "            number of timescales to evolve over\n",
    "        num_timesteps_per_timescale : int\n",
    "            number of timesteps per characteristic timescale, defines the time resolution \n",
    "        \"\"\"\n",
    "        \n",
    "        self.dt = self.tau / num_timesteps_per_timescale\n",
    "        print(self.dt)\n",
    "\n",
    "        next_timesteps = np.arange(0, self.tau * num_timescales, self.dt)\n",
    "        print('next_timesteps shape: ',next_timesteps.shape)\n",
    "        try :\n",
    "            last_timestep = self.timesteps[-1]\n",
    "            next_timesteps += last_timestep\n",
    "            self.timesteps = np.concatenate([self.timesteps, next_timesteps])\n",
    "            \n",
    "        except IndexError : \n",
    "            self.timesteps = next_timesteps        \n",
    "\n",
    "    def evolve_circuit(self, num_timescales, num_timesteps_per_timescale) :\n",
    "        \"\"\"Evolve the spring, populate the acceleration, velocity and position (a_vals, v_vals, x_vals)\n",
    "        Parameters\n",
    "        ----------\n",
    "        num_periods : float\n",
    "            number of periods to evolve over\n",
    "        num_timesteps_per_period : int\n",
    "            number of timesteps per period, defines the time resolution         \n",
    "        \"\"\"\n",
    "        \n",
    "        self._set_timesteps(num_timescales, num_timesteps_per_timescale)\n",
    "\n",
    "        # Time evolve the circuit using self._set_now_vals() and store values at each timestep\n",
    "        ### BEGIN SOLUTION\n",
    "        for timestep in np.arange(0, self.tau * num_timescales, self.dt) :\n",
    "            # Populate i_vals and q_vals with current current and charge on capacitor\n",
    "            self.i1_vals.append(self.i1_now)\n",
    "            self.i2_vals.append(self.i2_now)\n",
    "            self.i3_vals.append(self.i3_now)\n",
    "            self.q_vals.append(self.q_now)\n",
    "            \n",
    "            # Update \"now\" values: q_now, and i_now (i_now can be updated with a method)\n",
    "            self._set_now_vals()             \n",
    "        ### END SOLUTION"
   ]
  },
  {
   "cell_type": "markdown",
   "metadata": {},
   "source": [
    "### Plot the model (1 points)\n",
    "\n",
    "Plot the model for this circuit with the following circuit components:\n",
    "* $V = 10$ V\n",
    "* $R_1 = 10~\\Omega$\n",
    "* $R_2 = 20~\\Omega$\n",
    "* $R_3 = 15~\\Omega$\n",
    "* $C = 1.0~\\mu$F\n",
    "\n",
    "I recommend you time evolve over 5 characteristic timescales, and plot with time in units of $\\tau$.  Full credit for making the following plots:\n",
    "* $I_1$, $I_2$, and $I_3$ vs. time\n",
    "* Voltage on $C$ vs. time"
   ]
  },
  {
   "cell_type": "code",
   "execution_count": 127,
   "metadata": {
    "nbgrader": {
     "grade": true,
     "grade_id": "cell-6179940afcd42a97",
     "locked": false,
     "points": 1,
     "schema_version": 3,
     "solution": true,
     "task": false
    }
   },
   "outputs": [
    {
     "name": "stdout",
     "output_type": "stream",
     "text": [
      "0.5384615384615385 0.2307692307692308 0.3076923076923077\n",
      "2.6e-07\n",
      "next_timesteps shape:  (500,)\n"
     ]
    },
    {
     "data": {
      "text/plain": [
       "Text(0.5, 0, 'Time [Units of $\\\\tau$]')"
      ]
     },
     "execution_count": 127,
     "metadata": {},
     "output_type": "execute_result"
    },
    {
     "data": {
      "image/png": "[encoded data removed]",
      "text/plain": [
       "<Figure size 504x864 with 2 Axes>"
      ]
     },
     "metadata": {
      "needs_background": "light"
     },
     "output_type": "display_data"
    }
   ],
   "source": [
    "#  Define an instance of RCCircuitComplex, time evolve, and plot\n",
    "\n",
    "### BEGIN SOLUTION\n",
    "rccc = RCCircuitComplex(10, 20, 15, 1e-06, 0, 10)\n",
    "print(rccc.i1_now, rccc.i2_now, rccc.i3_now)\n",
    "rccc.evolve_circuit(5,100)\n",
    "\n",
    "# Plotting: \n",
    "fig, (ax1,ax2) = plt.subplots(2,1,figsize=(7,12))\n",
    "ax1.plot(rccc.timesteps/rccc.tau, rccc.i1_vals, label='I1')\n",
    "ax1.plot(rccc.timesteps/rccc.tau, rccc.i2_vals, label='I2')\n",
    "ax1.plot(rccc.timesteps/rccc.tau, rccc.i3_vals, label='I3')\n",
    "ax1.set_ylabel('Current [A]',fontsize='large')\n",
    "ax2.plot(rccc.timesteps/rccc.tau, np.array(rccc.q_vals)/rccc.capacitance)\n",
    "ax2.set_ylabel('V$_{cap} [V]$', fontsize='large')\n",
    "ax1.legend()\n",
    "ax2.set_xlabel('Time [Units of $\\\\tau$]', fontsize='large')\n",
    "### END SOLUTION"
   ]
  },
  {
   "cell_type": "markdown",
   "metadata": {},
   "source": [
    "### Discuss the plot (1 point)\n",
    "\n",
    "In the markdown cell below, discuss your plots.  For example, relate how the currents evolve over time.  For the voltage across the capacitor, does the asymptotal behavior make sense?  The time constant is defined as the amount of time to reach one e-folding time ($\\approx$2.718).  When does the capacitor reach (1-e) of its final charge (or voltage)?  Does this make sense?"
   ]
  },
  {
   "cell_type": "markdown",
   "metadata": {
    "nbgrader": {
     "grade": true,
     "grade_id": "cell-1db937b7195e6403",
     "locked": false,
     "points": 1,
     "schema_version": 3,
     "solution": true,
     "task": false
    }
   },
   "source": [
    "In the first panel, we see that $I_2$ drops to zero over time as the capacitor charges up. As $I_2$ drops to 0, $R_1$ and $R_3$ are effectively in series.  The currents in these resistors therefore approach the same value.  A long time after the capacitor has been charged, current flows only through the series combination of $R_1$ and $R_3$. In this case, the current from the battery is $I = V/(R_1 + R_3)$, and the voltage drop across the capacitor is \n",
    "$V_C = V - IR_1 = 10\\left( 1 - \\frac{R_1}{R_1 + R_3}\\right) = 6~V.$ This agrees with the plot above.\n",
    "\n",
    "Also, we see that $V(t=\\tau) = 6/(e - 1)$."
   ]
  },
  {
   "cell_type": "markdown",
   "metadata": {},
   "source": [
    "### Plot a loop rule (1 point)\n",
    "\n",
    "Choose one of the loops in the \"more complex circuit\".  Plot the sum of the voltage drops in this loop. You will notice that it does not quite stay at zero due to time integration errors."
   ]
  },
  {
   "cell_type": "code",
   "execution_count": 137,
   "metadata": {
    "nbgrader": {
     "grade": true,
     "grade_id": "cell-626ae739f36d246b",
     "locked": false,
     "points": 1,
     "schema_version": 3,
     "solution": true,
     "task": false
    }
   },
   "outputs": [
    {
     "data": {
      "text/plain": [
       "Text(0, 0.5, 'Sum of voltage drops')"
      ]
     },
     "execution_count": 137,
     "metadata": {},
     "output_type": "execute_result"
    },
    {
     "data": {
      "image/png": "[encoded data removed]",
      "text/plain": [
       "<Figure size 432x288 with 1 Axes>"
      ]
     },
     "metadata": {
      "needs_background": "light"
     },
     "output_type": "display_data"
    }
   ],
   "source": [
    "# Plot loop rule here\n",
    "### BEGIN SOLUTION\n",
    "plt.plot(rccc.timesteps/rccc.tau, \n",
    "         rccc.voltage_battery - rccc.r1 * np.array(rccc.i1_vals) - rccc.r3 * np.array(rccc.i3_vals))\n",
    "plt.xlabel('Time [$\\\\tau$]', fontsize='xx-large')\n",
    "plt.ylabel('Sum of voltage drops',fontsize='x-large')\n",
    "### END SOLUTION"
   ]
  }
 ],
 "metadata": {
  "celltoolbar": "Create Assignment",
  "kernelspec": {
   "display_name": "Python 3",
   "language": "python",
   "name": "python3"
  },
  "language_info": {
   "codemirror_mode": {
    "name": "ipython",
    "version": 3
   },
   "file_extension": ".py",
   "mimetype": "text/x-python",
   "name": "python",
   "nbconvert_exporter": "python",
   "pygments_lexer": "ipython3",
   "version": "3.8.5"
  }
 },
 "nbformat": 4,
 "nbformat_minor": 2
}
