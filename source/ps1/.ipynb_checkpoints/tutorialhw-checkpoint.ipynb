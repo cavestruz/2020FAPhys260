{
 "cells": [
  {
   "cell_type": "markdown",
   "metadata": {},
   "source": [
    "# Phys 260 Python Lab 1: Introduction to Python: Tutorial\n",
    "\n",
    "\n",
    "Please edit this cell to replace the below with your information (e.g. Camille Avestruz, cavestru):\n",
    "\n",
    "[First name] [Last name], [uniqname]\n",
    "\n",
    "## Tutorial summary\n",
    "- Plotting the one dimensional electric field due to a point charge\n",
    "- Comparing a \"model\" to the data\n",
    "- Plotting the electric field in 3 dimensions (the meshgrid method for generating points and 3d plotting tools)"
   ]
  },
  {
   "cell_type": "code",
   "execution_count": null,
   "metadata": {},
   "outputs": [],
   "source": [
    "import IPython\n",
    "assert IPython.version_info[0] >= 3, \"Your version of IPython is too old, please update it.\""
   ]
  },
  {
   "cell_type": "markdown",
   "metadata": {},
   "source": [
    "### Recall, importing modules with aliases from the pre-flight:"
   ]
  },
  {
   "cell_type": "code",
   "execution_count": 1,
   "metadata": {},
   "outputs": [],
   "source": [
    "import numpy as np\n",
    "from matplotlib import pyplot as plt"
   ]
  },
  {
   "cell_type": "markdown",
   "metadata": {},
   "source": [
    "**Quick questions:** \n",
    "- Which of the above modules allows us to plot?\n",
    "- What does the \"as\" do in each of the lines above?\n",
    "\n",
    "**Group Exercise** (5 min): \n",
    "- Create a numpy array, `rarray`, of numbers ranging from -1 to 1 in steps of 0.005, using the `np.arange` function. (e.g. -1, -095, ... ).  This will represent the radial distance from the origin.\n",
    "- Print the shape and size of the array.  \n",
    "- Print the value in `rarray` that is closest to the origin, `r=0` (Hint: Use the np.min and np.abs functions. Look up what they do.)  You'll note that this is interestingly not quite zero.\n",
    "- Bonus 1: Now, create a numpy array `rarraylin`, also of numbers ranging from -1 to 1 with 401 steps in between. \n",
    "- Bonus 2: Print the value in `rarraylin` that is closest to the origin, `r=0`."
   ]
  },
  {
   "cell_type": "code",
   "execution_count": 46,
   "metadata": {},
   "outputs": [
    {
     "name": "stdout",
     "output_type": "stream",
     "text": [
      "(400,)\n",
      "400\n",
      "8.881784197001252e-16\n",
      "0.0\n"
     ]
    }
   ],
   "source": [
    "#  Create rarray here, and print what you need to print.\n",
    "### BEGIN SOLUTION\n",
    "rarray=np.arange(-1,1,0.005)\n",
    "print(rarray.shape)\n",
    "print(rarray.size)\n",
    "print(np.min(np.abs(rarray)))\n",
    "\n",
    "rarraylin = np.linspace(-1,1, 401)\n",
    "print(np.min(np.abs(rarraylin)))\n",
    "### END SOLUTION"
   ]
  },
  {
   "cell_type": "code",
   "execution_count": 48,
   "metadata": {},
   "outputs": [],
   "source": [
    "assert((rarray == np.arange(-1,1,0.005)).all())\n",
    "assert((rarraylin == np.linspace(-1,1,401)).all())"
   ]
  },
  {
   "cell_type": "markdown",
   "metadata": {},
   "source": [
    "## Recall functions from the pre-flight. \n",
    "\n",
    "Let us assume that `rarray` represents the distance in meters from a point charge at the origin, `Q=1`.  \n",
    "\n",
    "**Group Exercise** (5 min):\n",
    "- Define a function, `calculate_electric_field_magnitude`, that calculates the magnitude of an electric field at distance `r` due to a point charge `q`.  This is given by the one-dimensional version of Coulomb's law: $|\\vec{E}|=\\frac{kq}{r^2}$, where $k=\\frac{1}{4\\pi \\epsilon_0}$.  \n",
    "\n",
    "You will need to first define the constants:\n",
    "```\n",
    "epsilon_0 = 8.85e-12$  ## in SI units\n",
    "k = 1 / (4 * np.pi * epsilon_0)   ## coulomb's constant\n",
    "```\n"
   ]
  },
  {
   "cell_type": "code",
   "execution_count": 38,
   "metadata": {},
   "outputs": [],
   "source": [
    "# Define epsilon_0 and k here\n",
    "### BEGIN SOLUTION\n",
    "epsilon_0 = 8.85e-12\n",
    "k = 1/(4*np.pi*epsilon_0)\n",
    "### END SOLUTION"
   ]
  },
  {
   "cell_type": "code",
   "execution_count": 15,
   "metadata": {},
   "outputs": [],
   "source": [
    "assert(epsilon_0 == 8.85e-12)\n",
    "assert(k==1/(4*np.pi*epsilon_0))"
   ]
  },
  {
   "cell_type": "code",
   "execution_count": 16,
   "metadata": {},
   "outputs": [],
   "source": [
    "def calculate_electric_field_magnitude(r, q) :\n",
    "    '''Return the magnitude of the electric field here'''\n",
    "    ### BEGIN SOLUTION\n",
    "    return k * q / r**2\n",
    "    ### END SOLUTION"
   ]
  },
  {
   "cell_type": "code",
   "execution_count": 17,
   "metadata": {},
   "outputs": [],
   "source": [
    "assert(calculate_electric_field_magnitude(1, 1) == k)"
   ]
  },
  {
   "cell_type": "markdown",
   "metadata": {},
   "source": [
    "**Exercise**: Plot the function (5min)\n",
    "- Plot the `calculate_electric_field_magnitude` as a function of `rarray` for a charge `q=1` Coulomb, and another for a charge `q=100` Coulombs.\n",
    "- Note:  Try plotting with and without a log-scale on the y-axis (you'll want to keep the log scale)\n",
    "- Note:  Make sure to label you axes - the axis labels are often more visible with the key word argument (kwarg), `fontsize='xx-large'`.\n",
    "- Note:  You can use the kwarg `label` to then add a legend."
   ]
  },
  {
   "cell_type": "code",
   "execution_count": 39,
   "metadata": {},
   "outputs": [
    {
     "data": {
      "text/plain": [
       "<matplotlib.legend.Legend at 0x7f3786dc33d0>"
      ]
     },
     "execution_count": 39,
     "metadata": {},
     "output_type": "execute_result"
    },
    {
     "data": {
      "image/png": "[encoded data removed]",
      "text/plain": [
       "<Figure size 432x288 with 1 Axes>"
      ]
     },
     "metadata": {
      "needs_background": "light"
     },
     "output_type": "display_data"
    }
   ],
   "source": [
    "# Plot here\n",
    "### BEGIN SOLUTION\n",
    "plt.plot(rarray,calculate_electric_field_magnitude(rarray,1), label='q=1 C')\n",
    "plt.plot(rarray,calculate_electric_field_magnitude(rarray,100), label='q=100 C')\n",
    "plt.yscale('log')\n",
    "plt.xlabel('r [m]', fontsize='xx-large')\n",
    "plt.ylabel('|$\\\\vec{E}$| [N/C]', fontsize='xx-large')\n",
    "plt.legend()\n",
    "### END SOLUTION"
   ]
  },
  {
   "cell_type": "markdown",
   "metadata": {},
   "source": [
    "**Question** (2min): What is the benefit of having the y-axis on a log scale?"
   ]
  },
  {
   "cell_type": "markdown",
   "metadata": {},
   "source": [
    "Answer:  "
   ]
  },
  {
   "cell_type": "markdown",
   "metadata": {},
   "source": [
    "**Quick exercise** (2min): Make the above plot scaling *both* the x and y axes to log scales."
   ]
  },
  {
   "cell_type": "code",
   "execution_count": 41,
   "metadata": {},
   "outputs": [
    {
     "data": {
      "text/plain": [
       "<matplotlib.legend.Legend at 0x7f3786c2ca00>"
      ]
     },
     "execution_count": 41,
     "metadata": {},
     "output_type": "execute_result"
    },
    {
     "data": {
      "image/png": "[encoded data removed]",
      "text/plain": [
       "<Figure size 432x288 with 1 Axes>"
      ]
     },
     "metadata": {
      "needs_background": "light"
     },
     "output_type": "display_data"
    }
   ],
   "source": [
    "#  Make the same plot above, but with both the x and y axes on a log scale\n",
    "### BEGIN SOLUTION\n",
    "plt.plot(rarray,calculate_electric_field_magnitude(rarray,1), label='q=1 C')\n",
    "plt.plot(rarray,calculate_electric_field_magnitude(rarray,100), label='q=100 C')\n",
    "plt.yscale('log')\n",
    "plt.xscale('log')\n",
    "plt.xlabel('r [m]', fontsize='xx-large')\n",
    "plt.ylabel('|$\\\\vec{E}$| [N/C]', fontsize='xx-large')\n",
    "plt.legend()\n",
    "### END SOLUTION"
   ]
  },
  {
   "cell_type": "markdown",
   "metadata": {},
   "source": [
    "Note, because we are looking at the log spacing on the x-axis, only the *positive* values show up. In the cell below, what happens when you execute the base 10 logarithm of -1, e.g. `np.log10(-1)`? "
   ]
  },
  {
   "cell_type": "code",
   "execution_count": 49,
   "metadata": {},
   "outputs": [
    {
     "name": "stderr",
     "output_type": "stream",
     "text": [
      "<ipython-input-49-54f80c48df43>:1: RuntimeWarning: invalid value encountered in log10\n",
      "  np.log10(-1)\n"
     ]
    },
    {
     "data": {
      "text/plain": [
       "nan"
      ]
     },
     "execution_count": 49,
     "metadata": {},
     "output_type": "execute_result"
    }
   ],
   "source": [
    "#  Test here\n",
    "### BEGIN SOLUTION\n",
    "np.log10(-1)\n",
    "### END SOLUTION"
   ]
  },
  {
   "cell_type": "markdown",
   "metadata": {},
   "source": [
    "Describe output here: "
   ]
  },
  {
   "cell_type": "markdown",
   "metadata": {},
   "source": [
    "## Comparing a model to data\n",
    "\n",
    "Let us assume that Coulomb's law is not yet known, and your plot above corresponds to data that you have taken.\n",
    "\n",
    "Straight lines on a log-log plot are easier to interpret. In this case the linear relation can be parameterized as: $$\\log_{10} E = m* \\log_{10} x + b.$$ If you carefully measure with a ruler (or equivalent) you'll find that the slope of this line is close to -2. (E.g., a $1/x^2$ dependence.)  We will use this to construct an eyeballed *model* of the data.  \n",
    "\n",
    "In general, a model should describe the behavior of data, and make predictions for data at other points. \n",
    "\n",
    "Let us focus on the `q=1` case.  The value of $b$ can be read off where $log_{10} x = 0$ (e.g., at x=1), so $b \\approx {10}.$ We can check this by plotting this eyeballed model over the field we have already calculated. To do this we need to rearange and invert our linear equation:\n",
    "\n",
    "$$10^{\\log_{10} E} = 10^{m* \\log_{10} x + b},$$ which is equivalent to: $$ E = 10^{m* \\log_{10} x} 10^ b,$$ and $$ E = 10^{ \\log_{10} x^m} 10^ b,$$ which can be simplified to:$$ E = x^m 10^ b.$$ Substituting in our estimates for $b$ and $m$ we have $$E_{eye,model} = 10^{10}x^{-2}.$$\n",
    "\n",
    "Now we want to check this by plotting our fit against the simulated E-field.  "
   ]
  },
  {
   "cell_type": "markdown",
   "metadata": {},
   "source": [
    "**Quick exercise** (2min): Let us now define a model function,\n",
    "```model_electric_field```, and over-plot this with the `q=1` curve from above for the rarray points.  Don't forget to examine this with the axes log scaled, label your curves for a legend, and label the axes."
   ]
  },
  {
   "cell_type": "code",
   "execution_count": 50,
   "metadata": {},
   "outputs": [],
   "source": [
    "def model_electric_field(x) :\n",
    "    \"\"\"Model of the observed electric field\"\"\"\n",
    "    return 1e10/x**2"
   ]
  },
  {
   "cell_type": "code",
   "execution_count": 57,
   "metadata": {},
   "outputs": [
    {
     "data": {
      "text/plain": [
       "<matplotlib.legend.Legend at 0x7f3786b494f0>"
      ]
     },
     "execution_count": 57,
     "metadata": {},
     "output_type": "execute_result"
    },
    {
     "data": {
      "image/png": "[encoded data removed]",
      "text/plain": [
       "<Figure size 432x288 with 1 Axes>"
      ]
     },
     "metadata": {
      "needs_background": "light"
     },
     "output_type": "display_data"
    }
   ],
   "source": [
    "# Over plot the model and \"data\"\n",
    "###BEGIN SOLUTION\n",
    "plt.plot(rarray, model_electric_field(rarray),label='model')\n",
    "plt.plot(rarray, calculate_electric_field_magnitude(rarray,q=1), label='data')\n",
    "plt.xscale('log')\n",
    "plt.yscale('log')\n",
    "plt.xlabel('r [m]', fontsize='xx-large')\n",
    "plt.ylabel('|$\\\\vec{E}$| [N/C]', fontsize='xx-large')\n",
    "plt.legend()\n",
    "\n",
    "###END SOLUTION"
   ]
  },
  {
   "cell_type": "markdown",
   "metadata": {},
   "source": [
    "**Quick exercise** (2min): One way to compare data with a model is to look at the ratio between them.  Plot the ratio between the data and model below.  "
   ]
  },
  {
   "cell_type": "code",
   "execution_count": 61,
   "metadata": {},
   "outputs": [
    {
     "data": {
      "text/plain": [
       "Text(0, 0.5, '|$\\\\vec{E}$| [N/C]')"
      ]
     },
     "execution_count": 61,
     "metadata": {},
     "output_type": "execute_result"
    },
    {
     "data": {
      "image/png": "[encoded data removed]",
      "text/plain": [
       "<Figure size 432x288 with 1 Axes>"
      ]
     },
     "metadata": {
      "needs_background": "light"
     },
     "output_type": "display_data"
    }
   ],
   "source": [
    "# Plot ratio here\n",
    "###BEGIN SOLUTION\n",
    "plt.plot(calculate_electric_field_magnitude(rarray,q=1)/model_electric_field(rarray))\n",
    "plt.xlabel('data/model', fontsize='xx-large')\n",
    "plt.ylabel('|$\\\\vec{E}$| [N/C]', fontsize='xx-large')\n",
    "###END SOLUTION"
   ]
  },
  {
   "cell_type": "markdown",
   "metadata": {},
   "source": [
    "Our fit agrees pretty well with the real field, so we have more or less recovered Coulomb's law (i.e. the $1/r^2$ dependence).  We have the correct scaling, $r^{-2}$.  But, the model differs from the data by a constant factor of $k = 0.899 \\times 10^{10}$. This was difficult to see in the over-plotted on the log-log plot, but this is clear in a ratio of the two."
   ]
  },
  {
   "cell_type": "markdown",
   "metadata": {},
   "source": [
    "## Coulomb's law in 3d\n",
    "\n",
    "The electric field is introduced by dividing both sides of coulomb's law by $q$. This results in:\n",
    "\n",
    "$$\\vec E := \\frac {\\vec F} q = \\frac 1 {4\\pi\\epsilon_0} \\frac {Q}{{\\vec{r}}^2} \\hat{r} $$ Here $\\vec{r}\\equiv \\vec{r_i} - \\vec{r_Q}$ where $\\vec{r_i}$ is the point in space at which we evaluate the field due to a charge Q sitting at $\\vec{r_Q}$. This is a vector field. That is, at each point in space we have a vector representing the magnitude and direction of the electric field at that point."
   ]
  },
  {
   "cell_type": "markdown",
   "metadata": {},
   "source": [
    "**Exercise** (5min):  Analogous to how we used np.arange (or np.linspace) to define a variable `rarray`,  representing positions in 1-d space, we can define positions in 3-d space.  We will do this using the `np.meshgrid` function for this.  Let us define xarray, yarray, and zarray positions in a box from $-1\\leq x, y, z\\leq 1$ in steps of 1. \n",
    "```\n",
    "sample_points = np.linspace(-1, 1, 3)\n",
    "xarray, yarray, zarray = np.meshgrid(sample_points, sample_points, sample_points, indexing='ij')\n",
    "```\n",
    "\n",
    "Note, we have used the kwarg `indexing='ij'` for x, y, z cycling arrays.  Without specifying this keyword, The default is y, x, z.  Define the xarray, yarray, and zarray variables as shown above, then examine these arrays (e.g. what are their sizes and shapes?  what are their contents?) From examination and/or reading online documentation of meshgrid, what does each element in each array correspond to?"
   ]
  },
  {
   "cell_type": "code",
   "execution_count": 67,
   "metadata": {},
   "outputs": [
    {
     "name": "stdout",
     "output_type": "stream",
     "text": [
      "size: 27\n",
      "shape: (3, 3, 3)\n",
      "xarray: [[[-1. -1. -1.]\n",
      "  [-1. -1. -1.]\n",
      "  [-1. -1. -1.]]\n",
      "\n",
      " [[ 0.  0.  0.]\n",
      "  [ 0.  0.  0.]\n",
      "  [ 0.  0.  0.]]\n",
      "\n",
      " [[ 1.  1.  1.]\n",
      "  [ 1.  1.  1.]\n",
      "  [ 1.  1.  1.]]]\n",
      "yarray: [[[-1. -1. -1.]\n",
      "  [ 0.  0.  0.]\n",
      "  [ 1.  1.  1.]]\n",
      "\n",
      " [[-1. -1. -1.]\n",
      "  [ 0.  0.  0.]\n",
      "  [ 1.  1.  1.]]\n",
      "\n",
      " [[-1. -1. -1.]\n",
      "  [ 0.  0.  0.]\n",
      "  [ 1.  1.  1.]]]\n",
      "zarray: [[[-1.  0.  1.]\n",
      "  [-1.  0.  1.]\n",
      "  [-1.  0.  1.]]\n",
      "\n",
      " [[-1.  0.  1.]\n",
      "  [-1.  0.  1.]\n",
      "  [-1.  0.  1.]]\n",
      "\n",
      " [[-1.  0.  1.]\n",
      "  [-1.  0.  1.]\n",
      "  [-1.  0.  1.]]]\n"
     ]
    }
   ],
   "source": [
    "# Define xarray, yarray, zarray here\n",
    "###BEGIN SOLUTION\n",
    "sample_points = np.linspace(-1,1,3)\n",
    "xarray, yarray, zarray = np.meshgrid(sample_points, sample_points, sample_points, indexing='ij')\n",
    "print('size:', xarray.size)\n",
    "print('shape:', xarray.shape)\n",
    "print('xarray:', xarray)\n",
    "print('yarray:', yarray)\n",
    "print('zarray:', zarray)\n",
    "###END SOLUTION"
   ]
  },
  {
   "cell_type": "code",
   "execution_count": null,
   "metadata": {},
   "outputs": [],
   "source": []
  },
  {
   "cell_type": "code",
   "execution_count": null,
   "metadata": {},
   "outputs": [],
   "source": []
  },
  {
   "cell_type": "markdown",
   "metadata": {},
   "source": [
    "# Phys 260 Python Lab 1: Introduction to Python: Homework\n",
    "\n",
    "\n",
    "Your homework assignment begins here.  Note, the homework below relies on code built during the tutorial (above)\n",
    "\n",
    "# Introduction -- Reminder\n",
    "\n",
    "Each Python lab will start with a pre-flight exercise that walks through building some of the set up and tools ($\\sim$ 30 min), followed by an in-class tutorial with time for Q+A (50 min) so you can walk through steps that will be necessary for the homework assignment you will submit ($\\sim$ 3 hrs).  Each lab will contain starter code, similar to what you see below.  Please fill in the code to complete the pre-flight assignment in preparation for the in-class tutorial.  \n",
    "\n",
    "Preflight ($\\sim$30-60 min, 10 points) **Typically due: Wednesdays 3pm EST**\n",
    "\n",
    "*Preflight typically graded by Wednesday 5p EST*\n",
    "\n",
    "In-class tutorial and Q+A ($\\sim$ 50 min, 10 points) **Typically occurs: Thursdays 9am EST**\n",
    "\n",
    "Homework assignment ($\\sim$ 3-5 hrs, 30 points) **Typically due: Wednesdays 11:59pm EST**\n",
    "\n",
    "*Homework typically graded by Thursday 5p*\n",
    "\n",
    "When we grade your homework, we will not run your code. Once submitted, your notebook should have the outputs for all of your results.  Please do not include long outputs from debugging, beyond a few print statements and the requested visualizations (i.e. plots).\n",
    "\n",
    "**Grading:** When we grade your notebook, we will convert the .ipynb file to an HTML file.  We will be using [nbgrader](https://nbgrader.readthedocs.io/en/stable/) to grade your notebooks.  **Note:** Execute the cell below (click in the cell and press shift+enter, or click in the cell and press the Run button) to check that you are using a version of python that is compatible with the tool we are using to grade your assignments.  If your ```IPython``` version is too old, we will *not* be able to grade your assignments.\n",
    "\n",
    "## Homework summary\n",
    "- Plot the electric field due to a dipole in 3 dimensions\n",
    "- Plot the same electric field along 2d planes"
   ]
  },
  {
   "cell_type": "code",
   "execution_count": null,
   "metadata": {},
   "outputs": [],
   "source": []
  },
  {
   "cell_type": "code",
   "execution_count": null,
   "metadata": {},
   "outputs": [],
   "source": []
  }
 ],
 "metadata": {
  "kernelspec": {
   "display_name": "Python 3",
   "language": "python",
   "name": "python3"
  },
  "language_info": {
   "codemirror_mode": {
    "name": "ipython",
    "version": 3
   },
   "file_extension": ".py",
   "mimetype": "text/x-python",
   "name": "python",
   "nbconvert_exporter": "python",
   "pygments_lexer": "ipython3",
   "version": "3.8.5"
  }
 },
 "nbformat": 4,
 "nbformat_minor": 4
}
