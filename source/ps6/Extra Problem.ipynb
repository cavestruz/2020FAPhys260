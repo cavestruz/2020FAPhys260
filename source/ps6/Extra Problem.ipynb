{
 "cells": [
  {
   "cell_type": "code",
   "execution_count": 3,
   "metadata": {},
   "outputs": [],
   "source": [
    "import numpy as np\n",
    "from matplotlib import pyplot as plt"
   ]
  },
  {
   "cell_type": "markdown",
   "metadata": {},
   "source": [
    "### A more complex circuit (5 points)\n",
    "\n",
    "In the problems above, you considered a simple $RC$ circuit. Now consider something a little more complicated:\n",
    "<img src=\"http://www-personal.umich.edu/~gerdes/img/RC_1.jpg\" height=\"400\" width=\"400\">\n",
    "One can solve for the time constant, $\\tau_c = (R2 + R1*R3/(R1 + R3))*C$, for charging the capacitor. Your task now is to model this circuit numerically using the same techniques as you employed for the simple $RC$ circuit(s) above. You can assume the values of the components are all known and can be passed to the `__init__`.  The capacitor will start uncharged at $t=0$.  Your goal is to find the charge $Q$ on the capacitor, and the three currents $I_1$, $I_2$, and $I_3$, as a function of time.\n",
    "\n",
    "#### Using RCCircuit as a template for RCComplexCircuit\n",
    "We define the class, `RCComplexCircuit` below. This will look virtually identical to `RCCircuit` with the following changes (in this line order):\n",
    "\n",
    "- the `__init__` will need to take in arguments r1, r2, and r3 (not just a single resistance), then assign these to the attributes `self.r1`, `self.r2`, `self.r3`,\n",
    "- the attribute `rc_constant`, as it is no longer just the product of resistance and capacitance for this circuit, but depends on r1, r2, r3, and capacitance (see previous paragraph)\n",
    "- replace the first call of `_set_inow` in the `__init__` by defining only the attribute `i1_now`, given that the initial state of the circuit behaves as though there is no capacitor (e.g. $I_1(t=0)=V/R_{eq}$ where $R_{eq}=R_1+1/(1/R_2+1/R_3)$,\n",
    "- you will need to have attributes for `i1_vals`, `i2_vals`, `i3_vals` (current through each resistor) defined in the init, whereas the simple RC circuit had only `i_vals`,) \n",
    "- the method `_set_inow` will need to set the attributes `i1_now`, `i2_now`, `i3_now`, whereas the simple RC circuit only had to set the attribute `i_now` (more on the system of equations shortly in the section **Calculating the current through each branch at each timestep**)  \n",
    "- the `_set_inow` call in `evolve_circuit` should happen after `i1_vals` is populated, and before `i2_vals` is populated - you will see why from the next section on calculating the current through each branch\n",
    "- the attribute `q_now` is updated according to the current running through this branch (i.e. `i2_now`)\n",
    "\n",
    "#### Calculating the current through each branch at each timestep\n",
    "If you are looking for more practice \"solving a circuit\", I recommend working through this one and solving for the currents.  Ultimately, you'll arrive at something along these lines:\n",
    "\\begin{eqnarray}\n",
    "    I_2&=&(V - I_1*R_1 - Q_{cap}/C)/R_2   \\\\  \n",
    "    I_3&=&(I_2*R_2 + Q_{cap}/C)/R_3     \\\\                      \n",
    "    I_1&=&I_2 + I_3 \\\\\n",
    "\\end{eqnarray}\n",
    "where the charge on the capacitor corresponds to the charge on the capacitor at a given timestep (i.e. `q_now`). You will want to define the method `_set_inow` by setting each current in this order.  Note, for a given next timestep, $I_2$ depends on $I_1$ and $Q_{cap}$ at the given timestep, $I_3$ depends on $I_2$ and $Q_{cap}$ at a given timestep, and the next timestep's $I_1$ is based on the new $I_2$ and $I_3$."
   ]
  },
  {
   "cell_type": "code",
   "execution_count": 23,
   "metadata": {},
   "outputs": [],
   "source": [
    "class RCComplexCircuit :\n",
    "    \"\"\"Creates an instance of a complex rc circuit model, which can be time evolved\"\"\"\n",
    "### BEGIN SOLUTION\n",
    "    def __init__(self, r1, r2, r3, capacitance, q_capacitor, voltage_battery) :\n",
    "        \"\"\"A model of an rc circuit\n",
    "        Parameters\n",
    "        ----------\n",
    "        r1, r2, r3 : float\n",
    "            value of resistance in ohms\n",
    "        capacitance : float \n",
    "            value of capacitance in Farads\n",
    "        q_capacitor : float\n",
    "            initial charge on capacitor\n",
    "        voltage_battery : float\n",
    "            voltage across battery\n",
    "        \"\"\"\n",
    "\n",
    "        self.r1 = r1\n",
    "        self.r2 = r2\n",
    "        self.r3 = r3\n",
    "        self.capacitance = capacitance\n",
    "        \n",
    "        # The time constant is a characteristic timescale of the system, analogous to the period in a spring\n",
    "        self.rc_constant = (r2 + r1*r3/(r1 + r3))*capacitance\n",
    "        \n",
    "        self.voltage_battery = voltage_battery\n",
    "        self.q_now = q_capacitor\n",
    "        \n",
    "        self.i1_now = voltage_battery / (r1 + 1/(1/r2+1/r3))\n",
    "        self.i2_now = self.i1_now * r3/(r2+r3)\n",
    "        self.i3_now = self.i1_now * r2/(r2+r3)\n",
    "        \n",
    "        self.i1_vals = []\n",
    "        self.i2_vals = []\n",
    "        self.i3_vals = []\n",
    "        self.q_vals = []\n",
    "\n",
    "    def _set_i_now(self) :\n",
    "        \"\"\"Calculate current for attribute i?_now, for i1,)  i2, i3 in terms of other attributes\"\"\"\n",
    "        self.i3_now = (self.i2_now * self.r2 + self.q_now/self.capacitance) / self.r3\n",
    "        self.i2_now = (self.voltage_battery - self.i1_now * self.r1 - self.q_now/self.capacitance) / self.r2\n",
    "        self.i1_now = self.i2_now + self.i3_now\n",
    "        \n",
    "        \n",
    "    def _set_num_timesteps(self, num_timescales, num_timesteps_per_timescale) :        \n",
    "        \"\"\"Internal method. Sets the attributes num_timesteps and dt.\n",
    "        Parameters\n",
    "        ----------\n",
    "        num_timescales : float\n",
    "            number of timescales to evolve over\n",
    "        num_timesteps_per_timescale : int\n",
    "            number of timesteps per characteristic timescale, defines the time resolution \n",
    "        \"\"\"\n",
    "        \n",
    "        dt = self.rc_constant / num_timesteps_per_timescale\n",
    "\n",
    "        try :\n",
    "            if self.dt != dt :\n",
    "                # self.dt already exists, using evolve_spring with a different one\n",
    "                print(\"Warning: you are continuing with a different timestep\")\n",
    "                print(\"previous dt=%.4f\"%self.dt)\n",
    "                print(\"new dt=%.4f\"%dt)\n",
    "                self.dt = dt\n",
    "        except AttributeError :\n",
    "            # Define the attribute dt for the first time\n",
    "            self.dt = dt    \n",
    "        \n",
    "        self.num_timesteps = num_timescales * num_timesteps_per_timescale\n",
    "        \n",
    "    def evolve_circuit(self, num_timescales, num_timesteps_per_timescale) :\n",
    "        \"\"\"Evolve the spring, populate the acceleration, velocity and position (a_vals, v_vals, x_vals)\n",
    "        Parameters\n",
    "        ----------\n",
    "        num_periods : float\n",
    "            number of periods to evolve over\n",
    "        num_timesteps_per_period : int\n",
    "            number of timesteps per period, defines the time resolution         \n",
    "        \"\"\"\n",
    "        \n",
    "        self._set_num_timesteps(num_timescales, num_timesteps_per_timescale)\n",
    "        \n",
    "        for timestep in np.arange(self.num_timesteps) :\n",
    "            \n",
    "            # Populate i_vals and q_vals with current current and charge on capacitor\n",
    "            self.i1_vals.append(self.i1_now)\n",
    "            self._set_i_now()\n",
    "            self.i2_vals.append(self.i2_now)\n",
    "            self.i3_vals.append(self.i3_now)\n",
    "            self.q_vals.append(self.q_now)\n",
    "            \n",
    "            # Update \"now\" values: q_now, and i_now (i_now can be updated with a method)\n",
    "            self.q_now += self.i2_now * self.dt\n",
    "\n",
    "### END SOLUTION"
   ]
  },
  {
   "cell_type": "markdown",
   "metadata": {},
   "source": [
    "### Using your class\n",
    "\n",
    "The code below assumes the class has been properly written, and defines an instance of the class that models the circuit for $R_1=10\\Omega$, $R_2=20\\Omega$, $R_3=15\\Omega$, $C=1\\mu$F, $Q_{0,cap}=0$C, and $V_{batt}=10$V.  We evolve the circuit over 5 time constants with 1000 steps per time constant."
   ]
  },
  {
   "cell_type": "code",
   "execution_count": 24,
   "metadata": {},
   "outputs": [
    {
     "name": "stdout",
     "output_type": "stream",
     "text": [
      "0.40093408400310665 0.001555354784558105 0.39937872921854856\n"
     ]
    }
   ],
   "source": [
    "complex_rc = RCComplexCircuit(10, 20, 15, 1e-6, 0, 10)\n",
    "complex_rc.evolve_circuit(5, 1000)\n",
    "print(complex_rc.i1_now, complex_rc.i2_now, complex_rc.i3_now)"
   ]
  },
  {
   "cell_type": "code",
   "execution_count": 25,
   "metadata": {},
   "outputs": [
    {
     "data": {
      "image/png": "[encoded data removed]",
      "text/plain": [
       "<Figure size 432x288 with 1 Axes>"
      ]
     },
     "metadata": {
      "needs_background": "light"
     },
     "output_type": "display_data"
    }
   ],
   "source": [
    "# Time evolution of current here\n",
    "time_rc_units = np.arange(complex_rc.num_timesteps) * complex_rc.dt / complex_rc.rc_constant\n",
    "\n",
    "plt.plot(time_rc_units, complex_rc.i1_vals, color='b', label='$I_1$')\n",
    "plt.plot(time_rc_units, complex_rc.i2_vals, color='r', label='$I_2$')\n",
    "plt.plot(time_rc_units, complex_rc.i3_vals, color='g', label='$I_3$')\n",
    "plt.xlabel('Time in units of RC', fontsize=16)\n",
    "plt.legend(fontsize=16)\n",
    "plt.grid()"
   ]
  },
  {
   "cell_type": "code",
   "execution_count": null,
   "metadata": {},
   "outputs": [],
   "source": []
  },
  {
   "cell_type": "code",
   "execution_count": null,
   "metadata": {},
   "outputs": [],
   "source": []
  }
 ],
 "metadata": {
  "kernelspec": {
   "display_name": "Python 3",
   "language": "python",
   "name": "python3"
  },
  "language_info": {
   "codemirror_mode": {
    "name": "ipython",
    "version": 3
   },
   "file_extension": ".py",
   "mimetype": "text/x-python",
   "name": "python",
   "nbconvert_exporter": "python",
   "pygments_lexer": "ipython3",
   "version": "3.8.5"
  }
 },
 "nbformat": 4,
 "nbformat_minor": 4
}
