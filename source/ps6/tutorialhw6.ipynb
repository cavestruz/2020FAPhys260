{
 "cells": [
  {
   "cell_type": "markdown",
   "metadata": {},
   "source": [
    "# Introduction -- Reminder\n",
    "\n",
    "Each Python lab will start with a pre-flight exercise that walks through building some of the set up and tools ($\\sim$ 30 min), followed by an in-class tutorial with time for Q+A (50 min) so you can walk through steps that will be necessary for the homework assignment you will submit ($\\sim$ 3 hrs).  Each lab will contain starter code, similar to what you see below.  Please fill in the code to complete the pre-flight assignment in preparation for the in-class tutorial.  \n",
    "\n",
    "Preflight ($\\sim$30-60 min, 10 points) **Typically due: Wednesdays 3pm EST**\n",
    "\n",
    "*Preflight typically graded by Wednesday 5p EST*\n",
    "\n",
    "In-class tutorial and Q+A ($\\sim$ 50 min, 10 points) **Typically occurs: Thursdays 9am EST**\n",
    "\n",
    "Homework assignment ($\\sim$ 3-5 hrs, 30 points) **Typically due: Mondays 9am EST** \n",
    "\n",
    "*Homework typically graded by Thursday 5p*\n",
    "\n",
    "When we grade your homework, we will not run your code. Once submitted, your notebook should have the outputs for all of your results.  Please do not include long outputs from debugging, beyond a few print statements and the requested visualizations (i.e. plots).\n",
    "\n",
    "**Grading:** When we grade your notebook, we will convert the .ipynb file to an HTML file.  We will be using [nbgrader](https://nbgrader.readthedocs.io/en/stable/) to grade your notebooks.  **Note:** If your ```IPython``` version is too old, we will *not* be able to grade your assignments.\n"
   ]
  },
  {
   "cell_type": "markdown",
   "metadata": {},
   "source": [
    "# Phys 260 Python Tutorial/HW 6: Simulating RC circuits (30 points total)\n",
    "\n",
    "## Tutorial/HW summary\n",
    "- Setting up the RC circuit with different initial conditions (with/without a battery)\n",
    "- Solving a more complex circuit"
   ]
  },
  {
   "cell_type": "code",
   "execution_count": 1,
   "metadata": {},
   "outputs": [],
   "source": [
    "import numpy as np\n",
    "from matplotlib import pyplot as plt"
   ]
  },
  {
   "cell_type": "markdown",
   "metadata": {},
   "source": [
    "## RC circuit to model\n",
    "\n",
    "We will model an RC circuit with the analogous steps as the `Spring` from the preflight.  Here, we will examine the behavior of:\n",
    "\n",
    "- Case 1: An uncharged capacitor in series with a resistor and a battery that will be charged from the battery.  \n",
    "- Case 2: A discharging capacitor as current flows through a resistor after the battery has been disconnected and the circuit closed.\n",
    "\n",
    "In the first case, the inital voltage across the capacitor is then zero, and the initial current through the resistor will be $I = \\frac {V_b} {R}$ where $V_b$ is the voltage of the battery.  The schematic is below:\n",
    "\n",
    "<img src=\"http://www-personal.umich.edu/~gerdes/img/MC-PythonCircuit02.png\" height=\"400\" width=\"400\">\n",
    "\n",
    "\n",
    "We can write down the differential equation which includes this initial condition, and solve numerically.  Plot the current through the resistor and the charge on the capacitor as a function of time.  Following this, we can compute and plot the power delivered by the battery to the circuit as a function of time.  We can also compute the total energy delivered by the battery to the circuit, compare this to the energy stored in the capacitor energy dissipated as heat in the resistor? \n",
    "\n",
    "For the first set up, we will keep the loop rule in mind,\n",
    "\\begin{eqnarray}\n",
    "V - IR - Q/C = 0\n",
    "\\end{eqnarray}\n",
    "\n",
    "\n",
    "### Practice writing equations in latex (3 points - 7 min)\n",
    "In the cell below, write: \n",
    "- the current at the ith timestep, $I_i=\\frac{\\Delta Q_i}{\\Delta t}$, in terms of everything else (you'll need to rearrange the loop rule), and \n",
    "- the charge on the capacitor at the next timestep, $Q_{i+1}$, in terms of $Q_{i}$, where $Q_{i}$ is the charge on the capacitor at the ith timestep (which determines the current at the ith timestep). \n",
    "- the current in the i+1 timestep, $I_{i+1}$, given the new charge, $Q_{i+1}$, on the capacitor."
   ]
  },
  {
   "cell_type": "markdown",
   "metadata": {
    "nbgrader": {
     "grade": true,
     "grade_id": "cell-59cd3722d249db02",
     "locked": false,
     "points": 3,
     "schema_version": 3,
     "solution": true,
     "task": false
    }
   },
   "source": [
    "\\begin{eqnarray}\n",
    "I_i & = &(V - Q_i/C)/R\n",
    "\\end{eqnarray}\n",
    "\n",
    "\\begin{eqnarray}\n",
    "Q_{i+1} &=& Q_i+I_i dt \\\\\n",
    "&=& Q_i + (V- Q_i/C)/R\n",
    "\\end{eqnarray}\n",
    "\n",
    "\\begin{eqnarray}\n",
    "I_{i+1} &=& (V - Q_{i+1}/C)/R\n",
    "\\end{eqnarray}"
   ]
  },
  {
   "cell_type": "markdown",
   "metadata": {},
   "source": [
    "## Build a class to model the RC circuit (2 points)\n",
    "\n",
    "Below, we have a class to model the RC circuit.  \n",
    "- Fill out the internal method, `self._set_i_now` to set the attribute `self.i_now` to the appropriate value dependent on other attributes.\n",
    "- Use the internal method where needed."
   ]
  },
  {
   "cell_type": "code",
   "execution_count": 2,
   "metadata": {
    "nbgrader": {
     "grade": false,
     "grade_id": "cell-142a0a81f661f167",
     "locked": false,
     "schema_version": 3,
     "solution": true,
     "task": false
    }
   },
   "outputs": [],
   "source": [
    "class RCCircuit :\n",
    "    \"\"\"Creates an instance of an rc circuit model, which can be time evolved\"\"\"\n",
    "    def __init__(self, resistance, capacitance, q_capacitor, voltage_battery) :\n",
    "        \"\"\"A model of an rc circuit\n",
    "        Parameters\n",
    "        ----------\n",
    "        resistance : float\n",
    "            value of resistance in ohms\n",
    "        capacitance : float \n",
    "            value of capacitance in Farads\n",
    "        q_capacitor : float\n",
    "            initial charge on capacitor\n",
    "        voltage_battery : float\n",
    "            voltage across battery\n",
    "        \"\"\"\n",
    "\n",
    "        self.resistance = resistance\n",
    "        self.capacitance = capacitance\n",
    "        \n",
    "        # The time constant is a characteristic timescale of the system, analogous to the period in a spring\n",
    "        self.rc_constant = resistance * capacitance\n",
    "        \n",
    "        self.voltage_battery = voltage_battery\n",
    "        self.q_now = q_capacitor\n",
    "        \n",
    "        #  Use the internal method _set_i_now\n",
    "        ### BEGIN SOLUTION\n",
    "        self._set_i_now()\n",
    "        ### END SOLUTION\n",
    "        \n",
    "        self.i_vals = []\n",
    "        self.q_vals = []\n",
    "\n",
    "    def _set_i_now(self) :\n",
    "        \"\"\"Calculate current for attribute i_now in terms of other attributes\"\"\"\n",
    "        ### BEGIN SOLUTION\n",
    "        self.i_now = (self.voltage_battery - self.q_now/self.capacitance)/self.resistance\n",
    "        ### END SOLUTION\n",
    "        \n",
    "    def _set_num_timesteps(self, num_timescales, num_timesteps_per_timescale) :        \n",
    "        \"\"\"Internal method. Sets the attributes num_timesteps and dt.\n",
    "        Parameters\n",
    "        ----------\n",
    "        num_timescales : floattimestep \n",
    "            number of timescales to evolve over\n",
    "        num_timesteps_per_timescale : int\n",
    "            number of timesteps per characteristic timescale, defines the time resolution \n",
    "        \"\"\"\n",
    "        \n",
    "        dt = self.rc_constant / num_timesteps_per_timescale\n",
    "\n",
    "        try :\n",
    "            if self.dt != dt :\n",
    "                # self.dt already exists, using evolve_spring with a different one\n",
    "                print(\"Warning: you are continuing with a different timestep\")\n",
    "                print(\"previous dt=%.4f\"%self.dt)\n",
    "                print(\"new dt=%.4f\"%dt)\n",
    "                self.dt = dt\n",
    "        except AttributeError :\n",
    "            # Define the attribute dt for the first time\n",
    "            self.dt = dt    \n",
    "        \n",
    "        self.num_timesteps = num_timescales * num_timesteps_per_timescale\n",
    "        \n",
    "    def evolve_circuit(self, num_timescales, num_timesteps_per_timescale) :\n",
    "        \"\"\"Evolve the spring, populate the acceleration, velocity and position (a_vals, v_vals, x_vals)\n",
    "        Parameters\n",
    "        ----------\n",
    "        num_periods : float\n",
    "            number of periods to evolve over\n",
    "        num_timesteps_per_period : int\n",
    "            number of timesteps per period, defines the time resolution         \n",
    "        \"\"\"\n",
    "        \n",
    "        self._set_num_timesteps(num_timescales, num_timesteps_per_timescale)\n",
    "        \n",
    "        for timestep in np.arange(self.num_timesteps) :\n",
    "            # Populate i_vals and q_vals with current current and charge on capacitor\n",
    "            self.i_vals.append(self.i_now)\n",
    "            self.q_vals.append(self.q_now)\n",
    "            \n",
    "            # Update \"now\" values: q_now, and i_now (i_now can be updated with a method)\n",
    "            self.q_now += self.i_now * self.dt \n",
    "            ### BEGIN SOLUTION\n",
    "            self._set_i_now()\n",
    "            ### END SOLUTION"
   ]
  },
  {
   "cell_type": "code",
   "execution_count": 3,
   "metadata": {
    "nbgrader": {
     "grade": true,
     "grade_id": "cell-310b2f6c96da39e5",
     "locked": true,
     "points": 2,
     "schema_version": 3,
     "solution": false,
     "task": false
    }
   },
   "outputs": [],
   "source": [
    "\"\"\"Execute to check you're on the right track\"\"\"\n",
    "test_rcc = RCCircuit(1,1e-6,0,10)\n",
    "assert(test_rcc.i_now == 10)\n",
    "test_rcc.evolve_circuit(10,100)\n",
    "assert(test_rcc.i_now < 1e-3)\n",
    "### BEGIN HIDDEN TESTS\n",
    "assert((test_rcc.i_vals[int(len(test_rcc.i_vals)/2)]-0.657) < 1e-3)\n",
    "### END HIDDEN TESTS"
   ]
  },
  {
   "cell_type": "markdown",
   "metadata": {},
   "source": [
    "**Discussion** (5 min): Food for thought -- you'll notice that the class has two lines that call the `self._set_i_now` method.  Can you identify where you might place a *single call* of `self._set_i_now` instead such that everything works?  Write out some takeaways from the discussion below (2 points)."
   ]
  },
  {
   "cell_type": "markdown",
   "metadata": {
    "nbgrader": {
     "grade": true,
     "grade_id": "cell-38765ae3b01db270",
     "locked": false,
     "points": 2,
     "schema_version": 3,
     "solution": true,
     "task": false
    }
   },
   "source": [
    "With two calls, you set `i_now` in the same places that you set `q_now`, and you have this attribute defined upon initialization. Alternatively, you can put the call just before you append to `i_vals`, so there is a value to append."
   ]
  },
  {
   "cell_type": "markdown",
   "metadata": {},
   "source": [
    "### Model the charging capacitor in an RC circuit (2 points -- in class)\n",
    "\n",
    "In the cell below, \n",
    "- Define an instance of `RCCircuit` that corresponds to an RC circuit with the following initial conditions $R = 2\\Omega$, $C = 20e-06$ Farad, $V_b=5$V, $Q_0=0$.  An appropriate name for this instance would be `rcc`.  \n",
    "- Evolve the system over 5$\\tau$ (i.e. $5 RC$), where $\\tau$ is the relevant timescale with 1000 steps per $\\tau$."
   ]
  },
  {
   "cell_type": "code",
   "execution_count": 4,
   "metadata": {
    "nbgrader": {
     "grade": false,
     "grade_id": "cell-38a6f85045c409f4",
     "locked": false,
     "schema_version": 3,
     "solution": true,
     "task": false
    }
   },
   "outputs": [],
   "source": [
    "# Define charging_rc_circuit here and evolve\n",
    "### BEGIN SOLUTION\n",
    "rcc = RCCircuit(2, 20e-6, 0, 5)\n",
    "rcc.evolve_circuit(5, 1000)\n",
    "### END SOLUTION"
   ]
  },
  {
   "cell_type": "code",
   "execution_count": 5,
   "metadata": {
    "nbgrader": {
     "grade": true,
     "grade_id": "cell-c3659f886275a80d",
     "locked": true,
     "points": 2,
     "schema_version": 3,
     "solution": false,
     "task": false
    }
   },
   "outputs": [],
   "source": [
    "\"\"\"Execute to check you're on the right track\"\"\"\n",
    "assert('i_vals' in dir(rcc))\n",
    "assert(rcc.dt == 4e-8)"
   ]
  },
  {
   "cell_type": "markdown",
   "metadata": {},
   "source": [
    "### Calculate the power (2 points -- 5 min group work)\n",
    "- Calculate the power output by the battery at each timestep, p_vals_battery\n",
    "- Calculate the power dissipated by the resistor at each timestep, p_vals_resistor\n",
    "\n",
    "Each of these depend on the attribute `i_vals`, which is a list of the current at each timestep.  You can either create an array from this list (recommended), or use a list comprehension if you want to practice this (and the power at each timestep would be a list)."
   ]
  },
  {
   "cell_type": "code",
   "execution_count": 6,
   "metadata": {
    "nbgrader": {
     "grade": false,
     "grade_id": "cell-4f5198300f36b8d5",
     "locked": false,
     "schema_version": 3,
     "solution": true,
     "task": false
    }
   },
   "outputs": [
    {
     "data": {
      "text/plain": [
       "6252.844088631959"
      ]
     },
     "execution_count": 6,
     "metadata": {},
     "output_type": "execute_result"
    }
   ],
   "source": [
    "# Calculate the power here\n",
    "### BEGIN SOLUTION\n",
    "p_vals_battery = rcc.voltage_battery * np.array(rcc.i_vals)\n",
    "p_vals_resistor = rcc.resistance * np.array(rcc.i_vals)**2\n",
    "### END SOLUTION\n",
    "p_vals_battery.sum()\n",
    "p_vals_resistor.sum()"
   ]
  },
  {
   "cell_type": "code",
   "execution_count": 7,
   "metadata": {
    "nbgrader": {
     "grade": true,
     "grade_id": "cell-365e9814aac8959e",
     "locked": true,
     "points": 2,
     "schema_version": 3,
     "solution": false,
     "task": false
    }
   },
   "outputs": [],
   "source": [
    "\"\"\"Execute to check you're on the right track\"\"\"\n",
    "if type(p_vals_battery) == list :\n",
    "    assert(np.array(p_vals_battery).sum() - 12415 < 1)\n",
    "else :\n",
    "    assert(p_vals_battery.sum() - 12415 < 1)\n",
    "\n",
    "if type(p_vals_resistor) == list :\n",
    "    assert(np.array(p_vals_resistor).sum() - 6252 < 1)\n",
    "else :\n",
    "    assert(p_vals_resistor.sum() - 6252 < 1)"
   ]
  },
  {
   "cell_type": "markdown",
   "metadata": {},
   "source": [
    "### Plot the charge, current, and power delivered by the battery (2 points -- 5 min group work)\n",
    "\n",
    "Below is most of the code to make a 3 panel plot of charge, current, and battery power as a function of time.  - Fill in the appropriate code to calculate the time in units of $\\tau=RC$ (analogous to time in units of the period T from the preflight).  \n",
    "- Define yarrays with the appropriate lists/numpy arrays."
   ]
  },
  {
   "cell_type": "code",
   "execution_count": 8,
   "metadata": {
    "nbgrader": {
     "grade": true,
     "grade_id": "cell-452afc9496050c97",
     "locked": false,
     "points": 2,
     "schema_version": 3,
     "solution": true,
     "task": false
    }
   },
   "outputs": [
    {
     "data": {
      "text/plain": [
       "Text(0.5, 0, 'Time in units of RC')"
      ]
     },
     "execution_count": 8,
     "metadata": {},
     "output_type": "execute_result"
    },
    {
     "data": {
      "image/png": "[encoded data removed]",
      "text/plain": [
       "<Figure size 576x576 with 3 Axes>"
      ]
     },
     "metadata": {
      "needs_background": "light"
     },
     "output_type": "display_data"
    }
   ],
   "source": [
    "#  Plotting code here\n",
    "fig, (ax1, ax2, ax3) = plt.subplots(3, figsize=(8,8))\n",
    "fig.suptitle('Charging Capacitor', fontsize=18)\n",
    "\n",
    "# Calculate the time in units of RC here (time_rc_units)\n",
    "### BEGIN SOLUTION\n",
    "time_rc_units = np.arange(rcc.num_timesteps) * rcc.dt / rcc.rc_constant\n",
    "### END SOLUTION\n",
    "\n",
    "axes = [ax1, ax2, ax3]\n",
    "# Define yarrays\n",
    "### BEGIN SOLUTION\n",
    "yarrays = [rcc.q_vals, rcc.i_vals, p_vals_battery]\n",
    "### Define yarrays\n",
    "ylabels = ['Charge [C]', 'Current [A]', 'Battery Power [W]']\n",
    "colors = ['b', 'r', 'g']\n",
    "\n",
    "for ax, yarray, ylabel, color in zip(axes, yarrays, ylabels, colors) :\n",
    "    ax.plot(time_rc_units, yarray, color=color)\n",
    "    ax.grid()\n",
    "    ax.set_ylabel(ylabel, fontsize=14)\n",
    "\n",
    "ax3.set_xlabel('Time in units of RC', fontsize=16)\n",
    "\n"
   ]
  },
  {
   "cell_type": "markdown",
   "metadata": {},
   "source": [
    "**Discussion of figure** (2 min -- in class):  Let us talk through what is going on in the figure above.  Use the cell below to write a \"figure caption\" talking through the figure. (1 points)"
   ]
  },
  {
   "cell_type": "markdown",
   "metadata": {
    "nbgrader": {
     "grade": true,
     "grade_id": "cell-15f77e019dfb07cc",
     "locked": false,
     "points": 1,
     "schema_version": 3,
     "solution": true,
     "task": false
    }
   },
   "source": [
    "Charge builds up and plateaus exponentially. The current follows the same exponential decay as before. The battery delivers its peak power at t=0, when current is at a maximum. Half of the total energy delivered by the battery is retained as stored energy in the capacitor, and the other half is dissipated as heat. This is independent of the values of R and C. You can try changing these values, but this only impacts actual time to charge."
   ]
  },
  {
   "cell_type": "markdown",
   "metadata": {},
   "source": [
    "**Discussion** (2 min): Yet even more food for thought -- power is energy per unit time.  We can therefore calculate both the energy delivered by the battery to the circuit (converted from the chemical potential energy in the battery), and also the energy dissipated into heat by the resistor.  What does the energy delivered by the battery correspond to in the plot above (i.e. in the third panel)?"
   ]
  },
  {
   "cell_type": "markdown",
   "metadata": {},
   "source": [
    "### Calculate the energy budget (4 points)\n",
    "\n",
    "Calculate:\n",
    "- The energy delivered by the battery, `energy_battery`, over the time the circuit evolved, \n",
    "- The energy stored on the capacitor, `energy_capacitor`, due to the collected charge by the end of the circuit's time evolution, \n",
    "- The energy dissipated by the resistor, `energy_resistor`, \n",
    "- The efficiency of the system (fraction of energy *not* lost to heat), `energy_efficiency`."
   ]
  },
  {
   "cell_type": "code",
   "execution_count": 9,
   "metadata": {
    "nbgrader": {
     "grade": false,
     "grade_id": "cell-93ba908bf33bb13f",
     "locked": false,
     "schema_version": 3,
     "solution": true,
     "task": false
    }
   },
   "outputs": [
    {
     "name": "stdout",
     "output_type": "stream",
     "text": [
      "energy delivered by the battery:  0.000496639444020067\n",
      "energy stored in capacitor:  0.00024664739605725954\n",
      "energy dissipated by resistor:  0.0002501137635452783\n",
      "fraction of energy not lost to heat:  0.49638763783898665\n"
     ]
    }
   ],
   "source": [
    "# Calculate energy budget here\n",
    "### BEGIN SOLUTION\n",
    "energy_battery = p_vals_battery.sum() * rcc.dt\n",
    "energy_capacitor = 0.5* rcc.q_vals[-1]**2 / rcc.capacitance\n",
    "energy_resistor = p_vals_resistor.sum() * rcc.dt\n",
    "energy_efficiency = (energy_battery - energy_resistor) / energy_battery\n",
    "### END SOLUTION\n",
    "print(\"energy delivered by the battery: \", energy_battery)\n",
    "print(\"energy stored in capacitor: \", energy_capacitor)\n",
    "print(\"energy dissipated by resistor: \", energy_resistor)\n",
    "print(\"fraction of energy not lost to heat: \", energy_efficiency)"
   ]
  },
  {
   "cell_type": "code",
   "execution_count": 10,
   "metadata": {
    "nbgrader": {
     "grade": true,
     "grade_id": "cell-09c55d494af41d4a",
     "locked": true,
     "points": 4,
     "schema_version": 3,
     "solution": false,
     "task": false
    }
   },
   "outputs": [],
   "source": [
    "\"\"\"Execute to check you're on the right track\"\"\"\n",
    "assert(energy_efficiency < 1)\n",
    "assert(abs(1 - energy_capacitor/energy_resistor) < 0.05 )\n",
    "### BEGIN HIDDEN TESTS\n",
    "assert(energy_battery == p_vals_battery.sum() * rcc.dt)\n",
    "assert(energy_capacitor == 0.5* rcc.q_vals[-1]**2 / rcc.capacitance)\n",
    "assert(energy_resistor == p_vals_resistor.sum() * rcc.dt)\n",
    "assert(energy_efficiency == (energy_battery - energy_resistor) / energy_battery)\n",
    "### END HIDDEN TESTS"
   ]
  },
  {
   "cell_type": "markdown",
   "metadata": {},
   "source": [
    "**Comment on the energy budget** (2 points -- likely take home) : In the cell below, comment on the energy budget you calculated.  In particular, note how energy divides between the capacitor and the resistor.  Comment on why the energy efficiency is not 1.  Does the energy budget change for different values of R and C if we allow the system to evolve for a long time?  (Note, you can quickly test this to numerically check what happens.)"
   ]
  },
  {
   "cell_type": "markdown",
   "metadata": {
    "nbgrader": {
     "grade": true,
     "grade_id": "cell-d19cd3451f3891e7",
     "locked": false,
     "points": 2,
     "schema_version": 3,
     "solution": true,
     "task": false
    }
   },
   "source": [
    " Half of the total energy delivered by the battery is retained as stored energy in the capacitor, and the other half is dissipated as heat through the resistor. This is independent of the values of R and C. You can try changing these values, but this only impacts actual time to charge."
   ]
  },
  {
   "cell_type": "markdown",
   "metadata": {},
   "source": [
    "##  Homework:  Discharging the capacitor (10 points total)\n",
    "\n",
    "This is arguably a simpler version of what we did during the tutorial, but there are some things to keep track of when executing the task.  Note, you can generally use the same class, `RCCircuit`, to model a discharging capacitor starting from an already charged capacitor.  The main difference is that you will not have a battery present.  This is equivalent to having the voltage of the battery equal to 0V.  For homework, you will discharge the capacitor in the same modeled system as before.  See the description of the system below."
   ]
  },
  {
   "cell_type": "markdown",
   "metadata": {},
   "source": [
    "### Discharging a Capacitor\n",
    "\n",
    "We will model the discharging of the capacitor we charged in the tutorial section.  See schematic of the system below.\n",
    "<img src=\"http://www-personal.umich.edu/~gerdes/img/MC-PythonCircuit01.png\" height=\"400\" width=\"400\">\n",
    "Let's briefly review the relations.  In absence of a battery, we have,\n",
    "\\begin{equation}\n",
    "\\frac {dQ} {dt} = I = \\frac{V_{cap}}{R}\n",
    "\\end{equation}\n",
    "and\n",
    "\\begin{equation}\n",
    " V_{cap} = \\frac{Q_{cap}}{C}\n",
    "\\end{equation}\n",
    "\n",
    "\n",
    "Thus, we have our simple first order differential equation\n",
    "\\begin{equation}\n",
    "\\frac {dQ} {dt} = \\frac{Q}{RC}\n",
    "\\end{equation}\n",
    "\n",
    "Turning this into a discrete expression, we get \n",
    "\\begin{equation}\n",
    "\\Delta Q = \\frac Q {RC} \\Delta t\n",
    "\\end{equation}"
   ]
  },
  {
   "cell_type": "markdown",
   "metadata": {},
   "source": [
    "### Modify the state of the object, evolve the circuit (2 points)\n",
    "\n",
    "In the cell below, let us first change the state of the object `charging_rcc` by removing the battery (i.e. set the attribute, `voltage_battery` to zero.  Time evolve this circuit for the same number of periods and number of timesteps as when we previously charged the capacitor (5 time periods, 1000 timesteps per time period)."
   ]
  },
  {
   "cell_type": "code",
   "execution_count": 11,
   "metadata": {
    "nbgrader": {
     "grade": false,
     "grade_id": "cell-6d7699b323657b0e",
     "locked": false,
     "schema_version": 3,
     "solution": true,
     "task": false
    }
   },
   "outputs": [],
   "source": [
    "# Define discharging_rc_circuit here and evolve\n",
    "### BEGIN SOLUTION\n",
    "rcc.voltage_battery = 0\n",
    "rcc.evolve_circuit(5, 1000)\n",
    "### END SOLUTION"
   ]
  },
  {
   "cell_type": "code",
   "execution_count": 12,
   "metadata": {
    "nbgrader": {
     "grade": true,
     "grade_id": "cell-233e92afbeccf9b2",
     "locked": true,
     "points": 2,
     "schema_version": 3,
     "solution": false,
     "task": false
    }
   },
   "outputs": [],
   "source": [
    "\"\"\"Execute to check you're on the right track\"\"\"\n",
    "assert(len(rcc.i_vals) == 2 * 5 * 1000)\n",
    "assert(np.abs(rcc.i_now) < 0.1 )\n",
    "### BEGIN HIDDEN TESTS\n",
    "assert(rcc.voltage_battery == 0)\n",
    "### END HIDDEN TESTS"
   ]
  },
  {
   "cell_type": "markdown",
   "metadata": {},
   "source": [
    "### Calculate the power (2 points)\n",
    "\n",
    "In the cell below, calculate `power_resistor`, the power dissipated by the resistor at each timestep (note, this will be an array covering the timesteps during the charging up and discharging)."
   ]
  },
  {
   "cell_type": "code",
   "execution_count": 13,
   "metadata": {
    "nbgrader": {
     "grade": false,
     "grade_id": "cell-86fcaa9d84c4974f",
     "locked": false,
     "schema_version": 3,
     "solution": true,
     "task": false
    }
   },
   "outputs": [],
   "source": [
    "### BEGIN SOLUTION\n",
    "power_resistor = np.array(rcc.i_vals)**2 * rcc.resistance\n",
    "### END SOLUTION"
   ]
  },
  {
   "cell_type": "code",
   "execution_count": 14,
   "metadata": {
    "nbgrader": {
     "grade": true,
     "grade_id": "cell-45a2585e25a7e60d",
     "locked": true,
     "points": 2,
     "schema_version": 3,
     "solution": false,
     "task": false
    }
   },
   "outputs": [],
   "source": [
    "\"\"\"Execute to check you're on the right track\"\"\"\n",
    "assert(abs(power_resistor.sum()/p_vals_resistor.sum() - 2.) < 0.1)"
   ]
  },
  {
   "cell_type": "markdown",
   "metadata": {},
   "source": [
    "### Plot the behavior of the circuit (2 points)\n",
    "\n",
    "Make a three panel figure (three axes) showing the charge, current, and the power dissipated by the resistor as a function of time in units of RC (similar to the previous case).  Note, in absence of the battery, current has a negative sign, it has reversed directions.  (Hint: When making the figure, you have the charge and current from the timesteps when the battery was connected.  So, the total number of timesteps is **twice** that stored from the most recent `evolve_circuit` method call.  From your final plots, you should see both the charging up and discharging behavior over 10 full time periods.) "
   ]
  },
  {
   "cell_type": "code",
   "execution_count": 15,
   "metadata": {
    "nbgrader": {
     "grade": true,
     "grade_id": "cell-e2285d7e16548d23",
     "locked": false,
     "points": 2,
     "schema_version": 3,
     "solution": true,
     "task": false
    },
    "scrolled": true
   },
   "outputs": [
    {
     "data": {
      "text/plain": [
       "Text(0.5, 0, 'Time in units of RC')"
      ]
     },
     "execution_count": 15,
     "metadata": {},
     "output_type": "execute_result"
    },
    {
     "data": {
      "image/png": "[encoded data removed]",
      "text/plain": [
       "<Figure size 576x864 with 3 Axes>"
      ]
     },
     "metadata": {
      "needs_background": "light"
     },
     "output_type": "display_data"
    }
   ],
   "source": [
    "# Plot the behavior in the circuit here\n",
    "fig, (ax1, ax2, ax3) = plt.subplots(3,1, figsize=(8,12))  \n",
    "\n",
    "# First calculate the power dissipated by the resistor, the time_rc_units, then plot as before\n",
    "\n",
    "### BEGIN SOLUTION\n",
    "axes = [ax1, ax2, ax3]\n",
    "time_rc_units = np.arange(rcc.num_timesteps * 2) * rcc.dt / rcc.rc_constant\n",
    "fig.suptitle('Discharging Capacitor', fontsize=18)\n",
    "yarrays = [rcc.q_vals, rcc.i_vals, \n",
    "           power_resistor]\n",
    "ylabels = ['Charge [C]', 'Current [A]', 'Power Dissipated [W]']\n",
    "colors = ['b', 'r', 'g']\n",
    "\n",
    "for ax, yarray, ylabel, color in zip(axes, yarrays, ylabels, colors) :\n",
    "    ax.plot(time_rc_units, yarray, color=color)\n",
    "    ax.grid()\n",
    "    ax.set_ylabel(ylabel, fontsize=14)\n",
    "    \n",
    "\n",
    "ax3.set_xlabel('Time in units of RC', fontsize=16)\n",
    "### END SOLUTION"
   ]
  },
  {
   "cell_type": "markdown",
   "metadata": {},
   "source": [
    "### Compare energy budget (2 points)\n",
    "\n",
    "Calculate the total energy dissipated, `energy_dissipated` and the energy remaining in the capacitor, `energy_capacitor`.  "
   ]
  },
  {
   "cell_type": "code",
   "execution_count": 16,
   "metadata": {},
   "outputs": [],
   "source": [
    "# Calculate energy budget here\n",
    "### BEGIN SOLUTION\n",
    "energy_dissipated = power_resistor.sum() * rcc.dt\n",
    "energy_capacitor = .5 * rcc.q_now**2 / rcc.capacitance \n",
    "### END SOLUTION"
   ]
  },
  {
   "cell_type": "code",
   "execution_count": 17,
   "metadata": {
    "nbgrader": {
     "grade": true,
     "grade_id": "cell-1732df4c5ac57268",
     "locked": true,
     "points": 2,
     "schema_version": 3,
     "solution": false,
     "task": false
    }
   },
   "outputs": [],
   "source": [
    "\"\"\"Execute to check you're on the right track\"\"\"\n",
    "assert(energy_capacitor < 1e-7)"
   ]
  },
  {
   "cell_type": "markdown",
   "metadata": {},
   "source": [
    "### Comment on your results (2 points)\n",
    "\n",
    "In the cell below, briefly describe the figure (charge, current, power behavior) as though you were writing a caption.  Also, comment on the energy budget of the system."
   ]
  },
  {
   "cell_type": "markdown",
   "metadata": {
    "nbgrader": {
     "grade": true,
     "grade_id": "cell-a46b942410366031",
     "locked": false,
     "points": 2,
     "schema_version": 3,
     "solution": true,
     "task": false
    }
   },
   "source": [
    "Both the charge and current decay exponentially with time. As the capacitor loses charge, the stored energy in the capacitor decreases. The energy from the capacitor converts to thermal energy as current passes through the resistor, which heats up and releases the energy into the air.  After discharging over the time periods, there is almost no energy left in the capacitor.  The resistor has dissipated the same amount of energy as before."
   ]
  }
 ],
 "metadata": {
  "celltoolbar": "Create Assignment",
  "kernelspec": {
   "display_name": "Python 3",
   "language": "python",
   "name": "python3"
  },
  "language_info": {
   "codemirror_mode": {
    "name": "ipython",
    "version": 3
   },
   "file_extension": ".py",
   "mimetype": "text/x-python",
   "name": "python",
   "nbconvert_exporter": "python",
   "pygments_lexer": "ipython3",
   "version": "3.8.5"
  }
 },
 "nbformat": 4,
 "nbformat_minor": 2
}
