{
 "cells": [
  {
   "cell_type": "markdown",
   "metadata": {},
   "source": [
    "# Introduction -- Reminder\n",
    "\n",
    "Each Python lab will start with a pre-flight exercise that walks through building some of the set up and tools ($\\sim$ 30 min), followed by an in-class tutorial with time for Q+A (50 min) so you can walk through steps that will be necessary for the homework assignment you will submit ($\\sim$ 3 hrs).  Each lab will contain starter code, similar to what you see below.  Please fill in the code to complete the pre-flight assignment in preparation for the in-class tutorial.  \n",
    "\n",
    "Preflight ($\\sim$30-60 min, 10 points) **Typically due: Wednesdays 3pm EST**\n",
    "\n",
    "*Preflight typically graded by Wednesday 5p EST*\n",
    "\n",
    "In-class tutorial and Q+A ($\\sim$ 50 min, 10 points) **Typically occurs: Thursdays 9am EST**\n",
    "\n",
    "Homework assignment ($\\sim$ 3-5 hrs, 30 points) **Typically due: Mondays 9am EST** \n",
    "\n",
    "*Homework typically graded by Thursday 5p*\n",
    "\n",
    "When we grade your homework, we will not run your code. Once submitted, your notebook should have the outputs for all of your results.  Please do not include long outputs from debugging, beyond a few print statements and the requested visualizations (i.e. plots).\n",
    "\n",
    "**Grading:** When we grade your notebook, we will convert the .ipynb file to an HTML file.  We will be using [nbgrader](https://nbgrader.readthedocs.io/en/stable/) to grade your notebooks.  **Note:** If your ```IPython``` version is too old, we will *not* be able to grade your assignments.\n"
   ]
  },
  {
   "cell_type": "markdown",
   "metadata": {},
   "source": [
    "# Phys 260 Python Lab 2: More Python: Tutorial (20 points total)\n",
    "\n",
    "## Tutorial summary\n",
    "- Discussion of meshgrid inputs (args and kwargs) and outputs (returned values/objects). \n",
    "- Efield calculation for more than one point with `np.apply_along_axis` (two point example).\n",
    "- Discretize a charge distribution (sphere example, exercise with cube example)\n",
    "- Build a function to take arbitrary points, arbitrary charges, and arbitrary `points_in_meshgrid`. \n",
    "\n",
    "\n",
    "\n",
    "Task:  Define dq\n",
    "`calculate_efield_due_to_points(charge_points, points_in_meshgrid, dq)`\n",
    "- Task in calculate efield, have them fill out the sum portion.\n",
    "- Make ONE (or two) of the 1-d plots, talk about it (Gauss vs. Computer)"
   ]
  },
  {
   "cell_type": "code",
   "execution_count": 1,
   "metadata": {},
   "outputs": [],
   "source": [
    "import numpy as np\n",
    "from matplotlib import pyplot as plt"
   ]
  },
  {
   "cell_type": "code",
   "execution_count": 14,
   "metadata": {},
   "outputs": [
    {
     "data": {
      "text/plain": [
       "(10,)"
      ]
     },
     "execution_count": 14,
     "metadata": {},
     "output_type": "execute_result"
    }
   ],
   "source": [
    "#  Here we set up the points in our vector field\n",
    "numpoints_1d = 10\n",
    "\n",
    "sample_points = np.linspace(-5,5,num=numpoints_1d)\n",
    "\n",
    "xarray, yarray, zarray = np.meshgrid(sample_points,\n",
    "                                     sample_points,\n",
    "                                     sample_points,\n",
    "                                     indexing='ij'\n",
    "                                    )\n",
    "\n",
    "points_in_meshgrid = np.array([xarray, yarray, zarray])\n",
    "sample_points.shape"
   ]
  },
  {
   "cell_type": "markdown",
   "metadata": {},
   "source": [
    "## Brief review (3 points)\n",
    "**Quick questions for the class** (class discussion -- 10 min 3 points): \n",
    "- What do the first three arguments of `np.meshgrid` do?\n",
    "- What happens when we switch indexing to 'xy' (or if we leave out the kwarg indexing altogether)?\n",
    "- What shape should `sample_points`, `xarray`, `yarray`, `zarray`, and points_in_meshgrid have?"
   ]
  },
  {
   "cell_type": "markdown",
   "metadata": {},
   "source": [
    "- The first three arguments correspond to the extend and one dimensional sampled points across each axis.\n",
    "- When we switch indexing to 'xy' (equivalent of leaving out the kwarg because 'xy' is the default), then the first and second dimensions switch.\n",
    "- The shapes should be `(numpoints_1d,)`; `(numpoints_1d, numpoints_1d, numpoints_1d)` for all x, y, z arrays;  `points_in_meshgrid` should be `(3,numpoints_1d, numpoints_1d, numpoints_1d)`, "
   ]
  },
  {
   "cell_type": "markdown",
   "metadata": {},
   "source": [
    "## The efield calculator"
   ]
  },
  {
   "cell_type": "code",
   "execution_count": 9,
   "metadata": {},
   "outputs": [],
   "source": [
    "def calculate_efield_at_point(charge_position, field_position, q=1) :\n",
    "    '''Return the electric field due to a point charge.\n",
    "    \n",
    "    Inputs:\n",
    "    charge_position (n-darray) : x, y, and z position vector\n",
    "    field_positions_x (n-darray) : x coordinates of the field\n",
    "    field_positions_y (n-darray) : y coordinates of the field\n",
    "    field_positions_z (n-darray) : z coordinates of the field\n",
    "    q (float or int) : charge of the point\n",
    "    Outputs:\n",
    "    vector_efield (n-darray) : x, y, z components of the e-field at the point field_position\n",
    "    '''\n",
    "    \n",
    "    r = field_position-charge_position\n",
    "    r_magnitude = np.linalg.norm(field_position-charge_position)\n",
    "    r_unit = r/r_magnitude\n",
    "    \n",
    "    k = 1  #  To make plotting extents easier to deal with\n",
    "    \n",
    "    return k*q / r_magnitude**2 * r_unit"
   ]
  },
  {
   "cell_type": "markdown",
   "metadata": {},
   "source": [
    "## Finding the e-field due to a point charge\n",
    "\n",
    "Let us recall the one line calculation for a point charge."
   ]
  },
  {
   "cell_type": "code",
   "execution_count": 7,
   "metadata": {},
   "outputs": [],
   "source": [
    "charge_position = np.array([0,0,0])\n",
    "efield_vectors_for_point_charge = np.apply_along_axis(calculate_efield_at_point, 0, \n",
    "                                                         points_in_meshgrid, charge_position)"
   ]
  },
  {
   "cell_type": "markdown",
   "metadata": {},
   "source": [
    "## Find the e-field due to two point charges (3 points)\n",
    "\n",
    "**Group Exercise** (10min -- 3 points): Assume that you have a point charge at (1,0,0) and at (-1,0,0) each with charge 0.5C.   Calculate the `efield_vectors_for_two_charges` below.  This is similar to the dipole calculation you did in the first tutorial/hw.\n",
    "- You will want to use the function `calculate_efield_at_point`.\n",
    "- First, you will need to incorporate the keyword argument `q=0.5`.\n",
    "- Use the principle of superposition here.\n",
    "- Aim to do this in 2-5 lines, but your steps should be clear."
   ]
  },
  {
   "cell_type": "code",
   "execution_count": 13,
   "metadata": {},
   "outputs": [],
   "source": [
    "# Calculate efield_vectors_for_two_charges here\n",
    "### BEGIN SOLUTION\n",
    "efield_from_1 = np.apply_along_axis(calculate_efield_at_point, 0, \n",
    "                                                points_in_meshgrid, np.array([1,0,0]), q=0.5)\n",
    "efield_from_2 = np.apply_along_axis(calculate_efield_at_point, 0, \n",
    "                                                points_in_meshgrid, np.array([-1,0,0]), q=0.5)\n",
    "efield_vectors_for_two_charges = efield_from_1+efield_from_2\n",
    "### END SOLUTION\n",
    "assert(efield_vectors_for_two_charges.shape == (3, numpoints_1d, numpoints_1d, numpoints_1d))"
   ]
  },
  {
   "cell_type": "markdown",
   "metadata": {},
   "source": [
    "## Discretizing a charge distribution (3 points)\n",
    "\n",
    "Let's say that instead of a point charge, we now have a charge distribution.  For initial simplicity, let us consider an origin centered insulating sphere, total charge $Q=1$C, with radius 0.75."
   ]
  },
  {
   "cell_type": "code",
   "execution_count": null,
   "metadata": {},
   "outputs": [],
   "source": []
  },
  {
   "cell_type": "markdown",
   "metadata": {},
   "source": [
    "Now, do the same for an origin centered cube, total charge $Q=1$C, whose volume lies within $-2\\leq x,y,z\\leq 2$.."
   ]
  },
  {
   "cell_type": "markdown",
   "metadata": {},
   "source": [
    "## Vectorized finding distance between points (1 point)\n",
    "\n",
    "We can also find the distance between a point, and a series of points (the series of points being the points generated from `np.meshgrid`, xarray, yarray, and zarray.  In the example below, you'll notice that we had to take the transpose to properly subtract each x, y, z meshgrid point from the `example_point` x, y, and z."
   ]
  },
  {
   "cell_type": "code",
   "execution_count": 1,
   "metadata": {},
   "outputs": [
    {
     "ename": "NameError",
     "evalue": "name 'np' is not defined",
     "output_type": "error",
     "traceback": [
      "\u001b[0;31m---------------------------------------------------------------------------\u001b[0m",
      "\u001b[0;31mNameError\u001b[0m                                 Traceback (most recent call last)",
      "\u001b[0;32m<ipython-input-1-f8a3ebabe5fb>\u001b[0m in \u001b[0;36m<module>\u001b[0;34m()\u001b[0m\n\u001b[0;32m----> 1\u001b[0;31m \u001b[0mexample_point\u001b[0m \u001b[0;34m=\u001b[0m \u001b[0mnp\u001b[0m\u001b[0;34m.\u001b[0m\u001b[0marray\u001b[0m\u001b[0;34m(\u001b[0m\u001b[0;34m[\u001b[0m\u001b[0;36m0\u001b[0m\u001b[0;34m,\u001b[0m\u001b[0;36m0\u001b[0m\u001b[0;34m,\u001b[0m\u001b[0;36m0\u001b[0m\u001b[0;34m]\u001b[0m\u001b[0;34m)\u001b[0m\u001b[0;34m\u001b[0m\u001b[0m\n\u001b[0m\u001b[1;32m      2\u001b[0m \u001b[0mpoints_in_meshgrid_t\u001b[0m \u001b[0;34m=\u001b[0m \u001b[0mpoints_in_meshgrid\u001b[0m\u001b[0;34m.\u001b[0m\u001b[0mT\u001b[0m\u001b[0;34m\u001b[0m\u001b[0m\n\u001b[1;32m      3\u001b[0m \u001b[0mprint\u001b[0m\u001b[0;34m(\u001b[0m\u001b[0mpoints_in_meshgrid_t\u001b[0m\u001b[0;34m.\u001b[0m\u001b[0mshape\u001b[0m\u001b[0;34m)\u001b[0m\u001b[0;34m\u001b[0m\u001b[0m\n\u001b[1;32m      4\u001b[0m \u001b[0;34m\u001b[0m\u001b[0m\n\u001b[1;32m      5\u001b[0m \u001b[0;31m# Distance between origin and each point\u001b[0m\u001b[0;34m\u001b[0m\u001b[0;34m\u001b[0m\u001b[0m\n",
      "\u001b[0;31mNameError\u001b[0m: name 'np' is not defined"
     ]
    }
   ],
   "source": [
    "example_point = np.array([0,0,0])\n",
    "points_in_meshgrid_t = points_in_meshgrid.T\n",
    "print(points_in_meshgrid_t.shape)\n",
    "\n",
    "# Distance between origin and each point\n",
    "distance_all_points = np.linalg.norm(points_in_meshgrid_t - example_point, axis=3)\n",
    "\n",
    "# There is a distance value for each point, \n",
    "# so the shape of distance_all_points is the same as \n",
    "#  xarray (or yarray or zarray):\n",
    "print(distance_all_points.shape)\n"
   ]
  },
  {
   "cell_type": "markdown",
   "metadata": {},
   "source": [
    "**Try:** Taking out the `.T` in the second line and re-executing the cell.  You'll notice that you get a value error because the origin has shape (3,) and the points_in_meshgrid has shape (3,4,4,4).  The way numpy matches up the operation is such that we need to have something with (4,4,4,3).  (Think about the difference in taking matrix multiplication of an mxn with an nxl matrix versus mxn and lxn.  One of these you cannot do for m!=n!=l.)  "
   ]
  },
  {
   "cell_type": "markdown",
   "metadata": {},
   "source": [
    "Below is the skeleton for a new function `calculate_efield_from_charge` that is very analogous to the `calculate_efield_at_point` from tutorial/hw 1.  \n",
    "\n",
    "Use the example code in the code cell above to fill out the function below. **In the function you fill out below**, you'll need to:\n",
    "\n",
    "\n",
    "- First, define `points_in_efield_meshgrid` given `field_positions_x`, `field_positions_y`, and `field_positions_z` (these are the analogs to `xarray`, `yarray`, and `zarray` when we defined `points_in_meshgrid` a few cells above.\n",
    "\n",
    "\n",
    "- Second, calculate `r_magnitude` for all points (should take one line of code).  `r_magnitude` in the function below is the analog to `distance_all_points` in the code cell above, and `charge_position` is the analog to `example_point` in the code cell above."
   ]
  },
  {
   "cell_type": "code",
   "execution_count": null,
   "metadata": {},
   "outputs": [],
   "source": []
  },
  {
   "cell_type": "markdown",
   "metadata": {},
   "source": [
    "# Phys 260 Python Lab 2: More Python: Homework (10 points total)\n",
    "\n",
    "\n",
    "Your homework assignment begins here.  Note, the homework below relies on code built during the tutorial (above)\n",
    "\n",
    "## Homework summary\n",
    "- Key Task: Define charge points, and dq changes depending on number of points"
   ]
  },
  {
   "cell_type": "code",
   "execution_count": null,
   "metadata": {},
   "outputs": [],
   "source": []
  }
 ],
 "metadata": {
  "kernelspec": {
   "display_name": "Python 3",
   "language": "python",
   "name": "python3"
  },
  "language_info": {
   "codemirror_mode": {
    "name": "ipython",
    "version": 3
   },
   "file_extension": ".py",
   "mimetype": "text/x-python",
   "name": "python",
   "nbconvert_exporter": "python",
   "pygments_lexer": "ipython3",
   "version": "3.6.5"
  }
 },
 "nbformat": 4,
 "nbformat_minor": 2
}
